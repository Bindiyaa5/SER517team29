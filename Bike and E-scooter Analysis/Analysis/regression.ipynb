{
 "cells": [
  {
   "cell_type": "code",
   "execution_count": null,
   "id": "aaf9824f-b6cc-4b29-a632-1f47ab017e44",
   "metadata": {},
   "outputs": [],
   "source": [
    "import pandas as pd\n",
    "import numpy as np\n",
    "import statsmodels.api as sm\n",
    "from sklearn.model_selection import train_test_split\n",
    "from sklearn.metrics import mean_squared_error\n",
    "from sklearn.linear_model import LinearRegression\n",
    "\n",
    "# Load the data\n",
    "df = pd.read_csv('C:/Users/vbodavul/Documents/Regression/updated_bike_sharing_data_with_distance.csv')  # Replace with your actual file path\n",
    "df = df.fillna(df.mean())\n",
    "\n",
    "# Convert 'rideable_type' to a binary variable, 1 for electric and 0 for normal\n",
    "df['is_electric'] = (df['rideable_type'] == 'electric_bike').astype(int)\n",
    "\n",
    "# If needed, create more features or convert categorical variables to dummy/indicator variables\n",
    "df = pd.get_dummies(df, columns=['start_station_name', 'end_station_name', 'member_casual'])\n",
    "\n",
    "# Select your features (X) and target variable (y)\n",
    "X = df[['start_lat', 'start_lng', 'end_lat', 'end_lng', 'Start_altitude', 'End_altitude']]  # Add more features if necessary\n",
    "y = df['is_electric']\n"
   ]
  },
  {
   "cell_type": "code",
   "execution_count": null,
   "id": "2c732588-c5b0-4371-ab26-a6af812eddf3",
   "metadata": {},
   "outputs": [],
   "source": [
    "X_train, X_test, y_train, y_test = train_test_split(X, y, test_size=0.2, random_state=42)\n"
   ]
  },
  {
   "cell_type": "code",
   "execution_count": null,
   "id": "661c4a5a-a0c2-458c-b9ee-4e7817f24b2f",
   "metadata": {},
   "outputs": [],
   "source": [
    "# Add a constant to the model (intercept)\n",
    "X_train_sm = sm.add_constant(X_train)\n",
    "X_test_sm = sm.add_constant(X_test)\n",
    "\n",
    "# Fit the model\n",
    "lm = sm.OLS(y_train, X_train_sm).fit()\n",
    "print(lm.summary())\n"
   ]
  },
  {
   "cell_type": "code",
   "execution_count": null,
   "id": "a835a205-3dae-4f85-9691-7df0fb02007c",
   "metadata": {},
   "outputs": [],
   "source": [
    "y_pred_train = lm.predict(X_train_sm)\n",
    "y_pred_test = lm.predict(X_test_sm)\n",
    "\n",
    "# Calculate RMSE for the train and test sets\n",
    "rmse_train = np.sqrt(mean_squared_error(y_train, y_pred_train))\n",
    "rmse_test = np.sqrt(mean_squared_error(y_test, y_pred_test))\n",
    "\n",
    "print(f'Train RMSE: {rmse_train}')\n",
    "print(f'Test RMSE: {rmse_test}')\n"
   ]
  },
  {
   "cell_type": "code",
   "execution_count": null,
   "id": "d801788a-2488-49d7-a508-930b7b9f6481",
   "metadata": {},
   "outputs": [],
   "source": [
    "# Fit the model\n",
    "poisson_model = sm.GLM(y_train, X_train_sm, family=sm.families.Poisson()).fit()\n",
    "print(poisson_model.summary())\n"
   ]
  },
  {
   "cell_type": "code",
   "execution_count": null,
   "id": "aab0ce89-fd45-4daa-a1ff-0629678208c3",
   "metadata": {},
   "outputs": [],
   "source": [
    "y_pred_train_poisson = poisson_model.predict(X_train_sm)\n",
    "y_pred_test_poisson = poisson_model.predict(X_test_sm)\n",
    "\n",
    "# Calculate RMSE for the train and test sets for Poisson model\n",
    "rmse_train_poisson = np.sqrt(mean_squared_error(y_train, y_pred_train_poisson))\n",
    "rmse_test_poisson = np.sqrt(mean_squared_error(y_test, y_pred_test_poisson))\n",
    "\n",
    "print(f'Train RMSE (Poisson): {rmse_train_poisson}')\n",
    "print(f'Test RMSE (Poisson): {rmse_test_poisson}')\n"
   ]
  },
  {
   "cell_type": "code",
   "execution_count": null,
   "id": "204fae58-a608-4319-ae32-67adc542510f",
   "metadata": {},
   "outputs": [],
   "source": []
  },
  {
   "cell_type": "code",
   "execution_count": null,
   "id": "30b2247c-a46e-4255-91f9-356020a1db2d",
   "metadata": {},
   "outputs": [],
   "source": []
  }
 ],
 "metadata": {
  "kernelspec": {
   "display_name": "Python 3 (ipykernel)",
   "language": "python",
   "name": "python3"
  },
  "language_info": {
   "codemirror_mode": {
    "name": "ipython",
    "version": 3
   },
   "file_extension": ".py",
   "mimetype": "text/x-python",
   "name": "python",
   "nbconvert_exporter": "python",
   "pygments_lexer": "ipython3",
   "version": "3.8.0"
  }
 },
 "nbformat": 4,
 "nbformat_minor": 5
}
