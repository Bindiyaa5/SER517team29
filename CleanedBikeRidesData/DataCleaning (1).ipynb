{
 "cells": [
  {
   "cell_type": "code",
   "execution_count": 3,
   "id": "877e0c4d-eec2-4598-b5b7-254b54a0c8e9",
   "metadata": {},
   "outputs": [],
   "source": [
    "import pandas as pd"
   ]
  },
  {
   "cell_type": "code",
   "execution_count": 4,
   "id": "1193eb73-5c8d-4c4b-90f0-9d4c20477f84",
   "metadata": {},
   "outputs": [],
   "source": [
    "import glob"
   ]
  },
  {
   "cell_type": "code",
   "execution_count": 5,
   "id": "214d5c69-be78-4e30-862a-699140faa09b",
   "metadata": {},
   "outputs": [],
   "source": [
    "file_pattern = \"C:/Users/vbodavul/Downloads/archive (2)/202[23]*-divvy-tripdata.csv\""
   ]
  },
  {
   "cell_type": "code",
   "execution_count": 6,
   "id": "d7289002-4b16-4ac6-b881-f6057bca3579",
   "metadata": {},
   "outputs": [],
   "source": [
    "file_list = glob.glob(file_pattern)"
   ]
  },
  {
   "cell_type": "code",
   "execution_count": 7,
   "id": "80005073-afa0-4194-9255-805b794742fa",
   "metadata": {},
   "outputs": [
    {
     "data": {
      "text/plain": [
       "['C:/Users/vbodavul/Downloads/archive (2)\\\\202205-divvy-tripdata.csv',\n",
       " 'C:/Users/vbodavul/Downloads/archive (2)\\\\202206-divvy-tripdata.csv',\n",
       " 'C:/Users/vbodavul/Downloads/archive (2)\\\\202207-divvy-tripdata.csv',\n",
       " 'C:/Users/vbodavul/Downloads/archive (2)\\\\202208-divvy-tripdata.csv',\n",
       " 'C:/Users/vbodavul/Downloads/archive (2)\\\\202210-divvy-tripdata.csv',\n",
       " 'C:/Users/vbodavul/Downloads/archive (2)\\\\202211-divvy-tripdata.csv',\n",
       " 'C:/Users/vbodavul/Downloads/archive (2)\\\\202212-divvy-tripdata.csv',\n",
       " 'C:/Users/vbodavul/Downloads/archive (2)\\\\202301-divvy-tripdata.csv',\n",
       " 'C:/Users/vbodavul/Downloads/archive (2)\\\\202302-divvy-tripdata.csv',\n",
       " 'C:/Users/vbodavul/Downloads/archive (2)\\\\202303-divvy-tripdata.csv',\n",
       " 'C:/Users/vbodavul/Downloads/archive (2)\\\\202304-divvy-tripdata.csv']"
      ]
     },
     "execution_count": 7,
     "metadata": {},
     "output_type": "execute_result"
    }
   ],
   "source": [
    "file_list\n"
   ]
  },
  {
   "cell_type": "code",
   "execution_count": 8,
   "id": "dc968704-be27-457e-a76f-a0ea45173fe5",
   "metadata": {},
   "outputs": [],
   "source": [
    "df = pd.concat((pd.read_csv(file) for file in file_list))"
   ]
  },
  {
   "cell_type": "code",
   "execution_count": 9,
   "id": "edaa8cc3-604c-4753-afe0-d27f9692b9e2",
   "metadata": {},
   "outputs": [
    {
     "data": {
      "text/plain": [
       "ride_id               5157722\n",
       "rideable_type         5157722\n",
       "started_at            5157722\n",
       "ended_at              5157722\n",
       "start_station_name    4429493\n",
       "start_station_id      4429361\n",
       "end_station_name      4379246\n",
       "end_station_id        4379105\n",
       "start_lat             5157722\n",
       "start_lng             5157722\n",
       "end_lat               5152461\n",
       "end_lng               5152461\n",
       "member_casual         5157722\n",
       "dtype: int64"
      ]
     },
     "execution_count": 9,
     "metadata": {},
     "output_type": "execute_result"
    }
   ],
   "source": [
    "df.count()"
   ]
  },
  {
   "cell_type": "code",
   "execution_count": 11,
   "id": "b0b83ade-97a7-4423-a1e5-23f32e824d3d",
   "metadata": {},
   "outputs": [
    {
     "name": "stdout",
     "output_type": "stream",
     "text": [
      "ride_id               5157722\n",
      "rideable_type         5157722\n",
      "started_at            5157722\n",
      "ended_at              5157722\n",
      "start_station_name    4429493\n",
      "start_station_id      4429361\n",
      "end_station_name      4379246\n",
      "end_station_id        4379105\n",
      "start_lat             5157722\n",
      "start_lng             5157722\n",
      "end_lat               5152461\n",
      "end_lng               5152461\n",
      "member_casual         5157722\n",
      "dtype: int64\n"
     ]
    }
   ],
   "source": [
    "print(df.count())"
   ]
  },
  {
   "cell_type": "code",
   "execution_count": 12,
   "id": "42f1bd4e-0543-4c36-a4b5-775c59634e9b",
   "metadata": {},
   "outputs": [],
   "source": [
    "df['started_at'] = pd.to_datetime(df['started_at'])\n",
    "df['ended_at'] = pd.to_datetime(df['ended_at'])\n",
    "df.drop_duplicates(inplace=True)"
   ]
  },
  {
   "cell_type": "code",
   "execution_count": 14,
   "id": "c02d58d1-6cc2-467e-886a-bc2c2b9aab0e",
   "metadata": {},
   "outputs": [],
   "source": [
    "df.to_csv('C:/Users/vbodavul/Downloads/archive (2)/merged_and_cleaned_tripdata.csv', index=False)"
   ]
  },
  {
   "cell_type": "code",
   "execution_count": 15,
   "id": "97e062c3-3057-464a-b98a-dde13a9bea1f",
   "metadata": {},
   "outputs": [
    {
     "data": {
      "text/html": [
       "<div>\n",
       "<style scoped>\n",
       "    .dataframe tbody tr th:only-of-type {\n",
       "        vertical-align: middle;\n",
       "    }\n",
       "\n",
       "    .dataframe tbody tr th {\n",
       "        vertical-align: top;\n",
       "    }\n",
       "\n",
       "    .dataframe thead th {\n",
       "        text-align: right;\n",
       "    }\n",
       "</style>\n",
       "<table border=\"1\" class=\"dataframe\">\n",
       "  <thead>\n",
       "    <tr style=\"text-align: right;\">\n",
       "      <th></th>\n",
       "      <th>ride_id</th>\n",
       "      <th>rideable_type</th>\n",
       "      <th>started_at</th>\n",
       "      <th>ended_at</th>\n",
       "      <th>start_station_name</th>\n",
       "      <th>start_station_id</th>\n",
       "      <th>end_station_name</th>\n",
       "      <th>end_station_id</th>\n",
       "      <th>start_lat</th>\n",
       "      <th>start_lng</th>\n",
       "      <th>end_lat</th>\n",
       "      <th>end_lng</th>\n",
       "      <th>member_casual</th>\n",
       "    </tr>\n",
       "  </thead>\n",
       "  <tbody>\n",
       "    <tr>\n",
       "      <th>0</th>\n",
       "      <td>EC2DE40644C6B0F4</td>\n",
       "      <td>classic_bike</td>\n",
       "      <td>2022-05-23 23:06:58</td>\n",
       "      <td>2022-05-23 23:40:19</td>\n",
       "      <td>Wabash Ave &amp; Grand Ave</td>\n",
       "      <td>TA1307000117</td>\n",
       "      <td>Halsted St &amp; Roscoe St</td>\n",
       "      <td>TA1309000025</td>\n",
       "      <td>41.891466</td>\n",
       "      <td>-87.626761</td>\n",
       "      <td>41.943670</td>\n",
       "      <td>-87.648950</td>\n",
       "      <td>member</td>\n",
       "    </tr>\n",
       "    <tr>\n",
       "      <th>1</th>\n",
       "      <td>1C31AD03897EE385</td>\n",
       "      <td>classic_bike</td>\n",
       "      <td>2022-05-11 08:53:28</td>\n",
       "      <td>2022-05-11 09:31:22</td>\n",
       "      <td>DuSable Lake Shore Dr &amp; Monroe St</td>\n",
       "      <td>13300</td>\n",
       "      <td>Field Blvd &amp; South Water St</td>\n",
       "      <td>15534</td>\n",
       "      <td>41.880958</td>\n",
       "      <td>-87.616743</td>\n",
       "      <td>41.886349</td>\n",
       "      <td>-87.617517</td>\n",
       "      <td>member</td>\n",
       "    </tr>\n",
       "    <tr>\n",
       "      <th>2</th>\n",
       "      <td>1542FBEC830415CF</td>\n",
       "      <td>classic_bike</td>\n",
       "      <td>2022-05-26 18:36:28</td>\n",
       "      <td>2022-05-26 18:58:18</td>\n",
       "      <td>Clinton St &amp; Madison St</td>\n",
       "      <td>TA1305000032</td>\n",
       "      <td>Wood St &amp; Milwaukee Ave</td>\n",
       "      <td>13221</td>\n",
       "      <td>41.882242</td>\n",
       "      <td>-87.641066</td>\n",
       "      <td>41.907655</td>\n",
       "      <td>-87.672552</td>\n",
       "      <td>member</td>\n",
       "    </tr>\n",
       "    <tr>\n",
       "      <th>3</th>\n",
       "      <td>6FF59852924528F8</td>\n",
       "      <td>classic_bike</td>\n",
       "      <td>2022-05-10 07:30:07</td>\n",
       "      <td>2022-05-10 07:38:49</td>\n",
       "      <td>Clinton St &amp; Madison St</td>\n",
       "      <td>TA1305000032</td>\n",
       "      <td>Clark St &amp; Randolph St</td>\n",
       "      <td>TA1305000030</td>\n",
       "      <td>41.882242</td>\n",
       "      <td>-87.641066</td>\n",
       "      <td>41.884576</td>\n",
       "      <td>-87.631890</td>\n",
       "      <td>member</td>\n",
       "    </tr>\n",
       "    <tr>\n",
       "      <th>4</th>\n",
       "      <td>483C52CAAE12E3AC</td>\n",
       "      <td>classic_bike</td>\n",
       "      <td>2022-05-10 17:31:56</td>\n",
       "      <td>2022-05-10 17:36:57</td>\n",
       "      <td>Clinton St &amp; Madison St</td>\n",
       "      <td>TA1305000032</td>\n",
       "      <td>Morgan St &amp; Lake St</td>\n",
       "      <td>TA1306000015</td>\n",
       "      <td>41.882242</td>\n",
       "      <td>-87.641066</td>\n",
       "      <td>41.885779</td>\n",
       "      <td>-87.651025</td>\n",
       "      <td>member</td>\n",
       "    </tr>\n",
       "    <tr>\n",
       "      <th>...</th>\n",
       "      <td>...</td>\n",
       "      <td>...</td>\n",
       "      <td>...</td>\n",
       "      <td>...</td>\n",
       "      <td>...</td>\n",
       "      <td>...</td>\n",
       "      <td>...</td>\n",
       "      <td>...</td>\n",
       "      <td>...</td>\n",
       "      <td>...</td>\n",
       "      <td>...</td>\n",
       "      <td>...</td>\n",
       "      <td>...</td>\n",
       "    </tr>\n",
       "    <tr>\n",
       "      <th>426585</th>\n",
       "      <td>8B441A6C436E9900</td>\n",
       "      <td>classic_bike</td>\n",
       "      <td>2023-04-29 21:20:21</td>\n",
       "      <td>2023-04-29 21:30:19</td>\n",
       "      <td>Halsted St &amp; 18th St</td>\n",
       "      <td>13099</td>\n",
       "      <td>Blue Island Ave &amp; 18th St</td>\n",
       "      <td>13135</td>\n",
       "      <td>41.857506</td>\n",
       "      <td>-87.645991</td>\n",
       "      <td>41.857556</td>\n",
       "      <td>-87.661535</td>\n",
       "      <td>casual</td>\n",
       "    </tr>\n",
       "    <tr>\n",
       "      <th>426586</th>\n",
       "      <td>3980D64BE11540F1</td>\n",
       "      <td>classic_bike</td>\n",
       "      <td>2023-04-24 09:16:05</td>\n",
       "      <td>2023-04-24 09:22:27</td>\n",
       "      <td>Halsted St &amp; 18th St</td>\n",
       "      <td>13099</td>\n",
       "      <td>Blue Island Ave &amp; 18th St</td>\n",
       "      <td>13135</td>\n",
       "      <td>41.857506</td>\n",
       "      <td>-87.645991</td>\n",
       "      <td>41.857556</td>\n",
       "      <td>-87.661535</td>\n",
       "      <td>casual</td>\n",
       "    </tr>\n",
       "    <tr>\n",
       "      <th>426587</th>\n",
       "      <td>3EF4B49FF7DAA02C</td>\n",
       "      <td>classic_bike</td>\n",
       "      <td>2023-04-18 07:53:51</td>\n",
       "      <td>2023-04-18 07:59:16</td>\n",
       "      <td>Franklin St &amp; Jackson Blvd</td>\n",
       "      <td>TA1305000025</td>\n",
       "      <td>Clark St &amp; Randolph St</td>\n",
       "      <td>TA1305000030</td>\n",
       "      <td>41.877708</td>\n",
       "      <td>-87.635321</td>\n",
       "      <td>41.884576</td>\n",
       "      <td>-87.631890</td>\n",
       "      <td>casual</td>\n",
       "    </tr>\n",
       "    <tr>\n",
       "      <th>426588</th>\n",
       "      <td>210B2ED6583DC231</td>\n",
       "      <td>classic_bike</td>\n",
       "      <td>2023-04-29 07:33:55</td>\n",
       "      <td>2023-04-29 07:38:57</td>\n",
       "      <td>Michigan Ave &amp; Lake St</td>\n",
       "      <td>TA1305000011</td>\n",
       "      <td>Clark St &amp; Randolph St</td>\n",
       "      <td>TA1305000030</td>\n",
       "      <td>41.886022</td>\n",
       "      <td>-87.624398</td>\n",
       "      <td>41.884576</td>\n",
       "      <td>-87.631890</td>\n",
       "      <td>casual</td>\n",
       "    </tr>\n",
       "    <tr>\n",
       "      <th>426589</th>\n",
       "      <td>D29CB39B9E3FC46A</td>\n",
       "      <td>electric_bike</td>\n",
       "      <td>2023-04-18 08:00:32</td>\n",
       "      <td>2023-04-18 08:02:35</td>\n",
       "      <td>Franklin St &amp; Jackson Blvd</td>\n",
       "      <td>TA1305000025</td>\n",
       "      <td>Clark St &amp; Ida B Wells Dr</td>\n",
       "      <td>TA1305000009</td>\n",
       "      <td>41.878134</td>\n",
       "      <td>-87.635255</td>\n",
       "      <td>41.875933</td>\n",
       "      <td>-87.630585</td>\n",
       "      <td>casual</td>\n",
       "    </tr>\n",
       "  </tbody>\n",
       "</table>\n",
       "<p>5157722 rows × 13 columns</p>\n",
       "</div>"
      ],
      "text/plain": [
       "                 ride_id  rideable_type          started_at  \\\n",
       "0       EC2DE40644C6B0F4   classic_bike 2022-05-23 23:06:58   \n",
       "1       1C31AD03897EE385   classic_bike 2022-05-11 08:53:28   \n",
       "2       1542FBEC830415CF   classic_bike 2022-05-26 18:36:28   \n",
       "3       6FF59852924528F8   classic_bike 2022-05-10 07:30:07   \n",
       "4       483C52CAAE12E3AC   classic_bike 2022-05-10 17:31:56   \n",
       "...                  ...            ...                 ...   \n",
       "426585  8B441A6C436E9900   classic_bike 2023-04-29 21:20:21   \n",
       "426586  3980D64BE11540F1   classic_bike 2023-04-24 09:16:05   \n",
       "426587  3EF4B49FF7DAA02C   classic_bike 2023-04-18 07:53:51   \n",
       "426588  210B2ED6583DC231   classic_bike 2023-04-29 07:33:55   \n",
       "426589  D29CB39B9E3FC46A  electric_bike 2023-04-18 08:00:32   \n",
       "\n",
       "                  ended_at                 start_station_name  \\\n",
       "0      2022-05-23 23:40:19             Wabash Ave & Grand Ave   \n",
       "1      2022-05-11 09:31:22  DuSable Lake Shore Dr & Monroe St   \n",
       "2      2022-05-26 18:58:18            Clinton St & Madison St   \n",
       "3      2022-05-10 07:38:49            Clinton St & Madison St   \n",
       "4      2022-05-10 17:36:57            Clinton St & Madison St   \n",
       "...                    ...                                ...   \n",
       "426585 2023-04-29 21:30:19               Halsted St & 18th St   \n",
       "426586 2023-04-24 09:22:27               Halsted St & 18th St   \n",
       "426587 2023-04-18 07:59:16         Franklin St & Jackson Blvd   \n",
       "426588 2023-04-29 07:38:57             Michigan Ave & Lake St   \n",
       "426589 2023-04-18 08:02:35         Franklin St & Jackson Blvd   \n",
       "\n",
       "       start_station_id             end_station_name end_station_id  \\\n",
       "0          TA1307000117       Halsted St & Roscoe St   TA1309000025   \n",
       "1                 13300  Field Blvd & South Water St          15534   \n",
       "2          TA1305000032      Wood St & Milwaukee Ave          13221   \n",
       "3          TA1305000032       Clark St & Randolph St   TA1305000030   \n",
       "4          TA1305000032          Morgan St & Lake St   TA1306000015   \n",
       "...                 ...                          ...            ...   \n",
       "426585            13099    Blue Island Ave & 18th St          13135   \n",
       "426586            13099    Blue Island Ave & 18th St          13135   \n",
       "426587     TA1305000025       Clark St & Randolph St   TA1305000030   \n",
       "426588     TA1305000011       Clark St & Randolph St   TA1305000030   \n",
       "426589     TA1305000025    Clark St & Ida B Wells Dr   TA1305000009   \n",
       "\n",
       "        start_lat  start_lng    end_lat    end_lng member_casual  \n",
       "0       41.891466 -87.626761  41.943670 -87.648950        member  \n",
       "1       41.880958 -87.616743  41.886349 -87.617517        member  \n",
       "2       41.882242 -87.641066  41.907655 -87.672552        member  \n",
       "3       41.882242 -87.641066  41.884576 -87.631890        member  \n",
       "4       41.882242 -87.641066  41.885779 -87.651025        member  \n",
       "...           ...        ...        ...        ...           ...  \n",
       "426585  41.857506 -87.645991  41.857556 -87.661535        casual  \n",
       "426586  41.857506 -87.645991  41.857556 -87.661535        casual  \n",
       "426587  41.877708 -87.635321  41.884576 -87.631890        casual  \n",
       "426588  41.886022 -87.624398  41.884576 -87.631890        casual  \n",
       "426589  41.878134 -87.635255  41.875933 -87.630585        casual  \n",
       "\n",
       "[5157722 rows x 13 columns]"
      ]
     },
     "execution_count": 15,
     "metadata": {},
     "output_type": "execute_result"
    }
   ],
   "source": [
    "df"
   ]
  },
  {
   "cell_type": "code",
   "execution_count": 16,
   "id": "d1620021-86c3-4ce6-ae99-9317802722dd",
   "metadata": {},
   "outputs": [],
   "source": [
    "df['started_at'] = pd.to_datetime(df['started_at'])"
   ]
  },
  {
   "cell_type": "code",
   "execution_count": 19,
   "id": "10dba200-b375-40cb-839c-3db61af0b048",
   "metadata": {},
   "outputs": [
    {
     "name": "stdout",
     "output_type": "stream",
     "text": [
      "           started_at            ended_at  trip_duration_minutes\n",
      "0 2022-05-23 23:06:58 2022-05-23 23:40:19              33.350000\n",
      "1 2022-05-11 08:53:28 2022-05-11 09:31:22              37.900000\n",
      "2 2022-05-26 18:36:28 2022-05-26 18:58:18              21.833333\n",
      "3 2022-05-10 07:30:07 2022-05-10 07:38:49               8.700000\n",
      "4 2022-05-10 17:31:56 2022-05-10 17:36:57               5.016667\n"
     ]
    }
   ],
   "source": [
    "# Calculate trip duration in minutes\n",
    "df['trip_duration_minutes'] = (df['ended_at'] - df['started_at']).dt.total_seconds() / 60\n",
    "\n",
    "# Display the first few rows to verify the new column\n",
    "print(df[['started_at', 'ended_at', 'trip_duration_minutes']].head())\n"
   ]
  },
  {
   "cell_type": "code",
   "execution_count": 20,
   "id": "f58cfc16-fd0c-4e0d-8b31-2497cb285d30",
   "metadata": {},
   "outputs": [],
   "source": [
    "bike_descriptive_stats = df['trip_duration_minutes'].describe()"
   ]
  },
  {
   "cell_type": "code",
   "execution_count": 21,
   "id": "73a1f093-2368-4b19-a661-ddb1ae93f0ed",
   "metadata": {},
   "outputs": [
    {
     "name": "stdout",
     "output_type": "stream",
     "text": [
      "count    5.157722e+06\n",
      "mean     1.888451e+01\n",
      "std      1.721436e+02\n",
      "min     -1.687000e+02\n",
      "25%      5.616667e+00\n",
      "50%      9.950000e+00\n",
      "75%      1.791667e+01\n",
      "max      4.138725e+04\n",
      "Name: trip_duration_minutes, dtype: float64\n"
     ]
    }
   ],
   "source": [
    "print(bike_descriptive_stats)"
   ]
  },
  {
   "cell_type": "code",
   "execution_count": 23,
   "id": "85d013f5-763c-49d4-b99e-b135e8704aa9",
   "metadata": {},
   "outputs": [
    {
     "name": "stdout",
     "output_type": "stream",
     "text": [
      "\n",
      "Found negative trip durations, indicating potential data issues:\n",
      "                started_at            ended_at  trip_duration_minutes\n",
      "592385 2022-05-30 11:06:29 2022-05-30 11:06:17              -0.200000\n",
      "126109 2022-06-07 19:15:39 2022-06-07 17:05:37            -130.033333\n",
      "126532 2022-06-07 19:14:46 2022-06-07 17:07:45            -127.016667\n",
      "278805 2022-06-23 19:22:57 2022-06-23 19:21:46              -1.183333\n",
      "301277 2022-06-07 19:14:47 2022-06-07 17:05:42            -129.083333\n",
      "...                    ...                 ...                    ...\n",
      "189347 2023-02-04 13:08:08 2023-02-04 13:04:52              -3.266667\n",
      "361967 2023-04-04 17:15:08 2023-04-04 17:15:05              -0.050000\n",
      "361983 2023-04-19 14:47:18 2023-04-19 14:47:14              -0.066667\n",
      "362063 2023-04-27 07:51:14 2023-04-27 07:51:09              -0.083333\n",
      "363359 2023-04-06 23:09:31 2023-04-06 23:00:35              -8.933333\n",
      "\n",
      "[94 rows x 3 columns]\n"
     ]
    }
   ],
   "source": [
    "# Step 3: Data Integrity Checks\n",
    "# Check for negative trip durations, which may indicate data issues\n",
    "\n",
    "negative_durations = df[df['trip_duration_minutes'] < 0]\n",
    "if not negative_durations.empty:\n",
    "    print(\"\\nFound negative trip durations, indicating potential data issues:\")\n",
    "    print(negative_durations[['started_at', 'ended_at', 'trip_duration_minutes']])\n",
    "    \n",
    "    # Decide on a handling strategy; for demonstration, we'll remove these rows\n",
    "    df = df[df['trip_duration_minutes'] >= 0]\n",
    "    \n",
    "else:\n",
    "    print(\"\\nNo negative trip durations found.\")"
   ]
  },
  {
   "cell_type": "code",
   "execution_count": 28,
   "id": "68fc2698-5c39-41e6-8bd9-d41845ccdd39",
   "metadata": {},
   "outputs": [],
   "source": [
    "# saving the cleaned DataFrame to a new file\n",
    "df.to_csv('C:/Users/vbodavul/Downloads/archive (2)/cleaned_bike_data.csv', index=False)"
   ]
  },
  {
   "cell_type": "code",
   "execution_count": null,
   "id": "70368c02-e870-4a7d-90f4-0e63573035f8",
   "metadata": {},
   "outputs": [],
   "source": []
  }
 ],
 "metadata": {
  "kernelspec": {
   "display_name": "Python 3 (ipykernel)",
   "language": "python",
   "name": "python3"
  },
  "language_info": {
   "codemirror_mode": {
    "name": "ipython",
    "version": 3
   },
   "file_extension": ".py",
   "mimetype": "text/x-python",
   "name": "python",
   "nbconvert_exporter": "python",
   "pygments_lexer": "ipython3",
   "version": "3.8.0"
  }
 },
 "nbformat": 4,
 "nbformat_minor": 5
}
