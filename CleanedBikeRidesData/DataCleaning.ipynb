{
 "cells": [
  {
   "cell_type": "code",
   "execution_count": 3,
   "id": "877e0c4d-eec2-4598-b5b7-254b54a0c8e9",
   "metadata": {},
   "outputs": [],
   "source": [
    "import pandas as pd"
   ]
  },
  {
   "cell_type": "code",
   "execution_count": 4,
   "id": "1193eb73-5c8d-4c4b-90f0-9d4c20477f84",
   "metadata": {},
   "outputs": [],
   "source": [
    "import glob"
   ]
  },
  {
   "cell_type": "code",
   "execution_count": 5,
   "id": "214d5c69-be78-4e30-862a-699140faa09b",
   "metadata": {},
   "outputs": [],
   "source": [
    "file_pattern = \"C:/Users/vbodavul/Downloads/archive (2)/202[23]*-divvy-tripdata.csv\""
   ]
  },
  {
   "cell_type": "code",
   "execution_count": 6,
   "id": "d7289002-4b16-4ac6-b881-f6057bca3579",
   "metadata": {},
   "outputs": [],
   "source": [
    "file_list = glob.glob(file_pattern)"
   ]
  },
  {
   "cell_type": "code",
   "execution_count": 7,
   "id": "80005073-afa0-4194-9255-805b794742fa",
   "metadata": {},
   "outputs": [
    {
     "data": {
      "text/plain": [
       "['C:/Users/vbodavul/Downloads/archive (2)\\\\202205-divvy-tripdata.csv',\n",
       " 'C:/Users/vbodavul/Downloads/archive (2)\\\\202206-divvy-tripdata.csv',\n",
       " 'C:/Users/vbodavul/Downloads/archive (2)\\\\202207-divvy-tripdata.csv',\n",
       " 'C:/Users/vbodavul/Downloads/archive (2)\\\\202208-divvy-tripdata.csv',\n",
       " 'C:/Users/vbodavul/Downloads/archive (2)\\\\202210-divvy-tripdata.csv',\n",
       " 'C:/Users/vbodavul/Downloads/archive (2)\\\\202211-divvy-tripdata.csv',\n",
       " 'C:/Users/vbodavul/Downloads/archive (2)\\\\202212-divvy-tripdata.csv',\n",
       " 'C:/Users/vbodavul/Downloads/archive (2)\\\\202301-divvy-tripdata.csv',\n",
       " 'C:/Users/vbodavul/Downloads/archive (2)\\\\202302-divvy-tripdata.csv',\n",
       " 'C:/Users/vbodavul/Downloads/archive (2)\\\\202303-divvy-tripdata.csv',\n",
       " 'C:/Users/vbodavul/Downloads/archive (2)\\\\202304-divvy-tripdata.csv']"
      ]
     },
     "execution_count": 7,
     "metadata": {},
     "output_type": "execute_result"
    }
   ],
   "source": [
    "file_list\n"
   ]
  },
  {
   "cell_type": "code",
   "execution_count": 8,
   "id": "dc968704-be27-457e-a76f-a0ea45173fe5",
   "metadata": {},
   "outputs": [],
   "source": [
    "df = pd.concat((pd.read_csv(file) for file in file_list))"
   ]
  },
  {
   "cell_type": "code",
   "execution_count": 9,
   "id": "edaa8cc3-604c-4753-afe0-d27f9692b9e2",
   "metadata": {},
   "outputs": [
    {
     "data": {
      "text/plain": [
       "ride_id               5157722\n",
       "rideable_type         5157722\n",
       "started_at            5157722\n",
       "ended_at              5157722\n",
       "start_station_name    4429493\n",
       "start_station_id      4429361\n",
       "end_station_name      4379246\n",
       "end_station_id        4379105\n",
       "start_lat             5157722\n",
       "start_lng             5157722\n",
       "end_lat               5152461\n",
       "end_lng               5152461\n",
       "member_casual         5157722\n",
       "dtype: int64"
      ]
     },
     "execution_count": 9,
     "metadata": {},
     "output_type": "execute_result"
    }
   ],
   "source": [
    "df.count()"
   ]
  },
  {
   "cell_type": "code",
   "execution_count": 11,
   "id": "b0b83ade-97a7-4423-a1e5-23f32e824d3d",
   "metadata": {},
   "outputs": [
    {
     "name": "stdout",
     "output_type": "stream",
     "text": [
      "ride_id               5157722\n",
      "rideable_type         5157722\n",
      "started_at            5157722\n",
      "ended_at              5157722\n",
      "start_station_name    4429493\n",
      "start_station_id      4429361\n",
      "end_station_name      4379246\n",
      "end_station_id        4379105\n",
      "start_lat             5157722\n",
      "start_lng             5157722\n",
      "end_lat               5152461\n",
      "end_lng               5152461\n",
      "member_casual         5157722\n",
      "dtype: int64\n"
     ]
    }
   ],
   "source": [
    "print(df.count())"
   ]
  },
  {
   "cell_type": "code",
   "execution_count": 12,
   "id": "42f1bd4e-0543-4c36-a4b5-775c59634e9b",
   "metadata": {},
   "outputs": [],
   "source": [
    "df['started_at'] = pd.to_datetime(df['started_at'])\n",
    "df['ended_at'] = pd.to_datetime(df['ended_at'])\n",
    "df.drop_duplicates(inplace=True)"
   ]
  },
  {
   "cell_type": "code",
   "execution_count": null,
   "id": "c02d58d1-6cc2-467e-886a-bc2c2b9aab0e",
   "metadata": {},
   "outputs": [],
   "source": [
    "df.to_csv('C:/Users/vbodavul/Downloads/archive (2)/merged_and_cleaned_tripdata.csv', index=False)"
   ]
  },
  {
   "cell_type": "code",
   "execution_count": null,
   "id": "97e062c3-3057-464a-b98a-dde13a9bea1f",
   "metadata": {},
   "outputs": [],
   "source": []
  }
 ],
 "metadata": {
  "kernelspec": {
   "display_name": "Python 3 (ipykernel)",
   "language": "python",
   "name": "python3"
  },
  "language_info": {
   "codemirror_mode": {
    "name": "ipython",
    "version": 3
   },
   "file_extension": ".py",
   "mimetype": "text/x-python",
   "name": "python",
   "nbconvert_exporter": "python",
   "pygments_lexer": "ipython3",
   "version": "3.8.0"
  }
 },
 "nbformat": 4,
 "nbformat_minor": 5
}
