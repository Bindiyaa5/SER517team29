{
 "cells": [
  {
   "cell_type": "code",
   "execution_count": 23,
   "id": "877e0c4d-eec2-4598-b5b7-254b54a0c8e9",
   "metadata": {},
   "outputs": [],
   "source": [
    "import pandas as pd\n",
    "import numpy as np\n",
    "import matplotlib.pyplot as plt\n"
   ]
  },
  {
   "cell_type": "code",
   "execution_count": 2,
   "id": "1193eb73-5c8d-4c4b-90f0-9d4c20477f84",
   "metadata": {},
   "outputs": [],
   "source": [
    "import glob"
   ]
  },
  {
   "cell_type": "code",
   "execution_count": 3,
   "id": "214d5c69-be78-4e30-862a-699140faa09b",
   "metadata": {},
   "outputs": [],
   "source": [
    "file_pattern = \"C:/Users/vbodavul/Downloads/archive (2)/202[23]*-divvy-tripdata.csv\""
   ]
  },
  {
   "cell_type": "code",
   "execution_count": 4,
   "id": "d7289002-4b16-4ac6-b881-f6057bca3579",
   "metadata": {},
   "outputs": [],
   "source": [
    "file_list = glob.glob(file_pattern)"
   ]
  },
  {
   "cell_type": "code",
   "execution_count": 5,
   "id": "80005073-afa0-4194-9255-805b794742fa",
   "metadata": {},
   "outputs": [
    {
     "data": {
      "text/plain": [
       "['C:/Users/vbodavul/Downloads/archive (2)\\\\202205-divvy-tripdata.csv',\n",
       " 'C:/Users/vbodavul/Downloads/archive (2)\\\\202206-divvy-tripdata.csv',\n",
       " 'C:/Users/vbodavul/Downloads/archive (2)\\\\202207-divvy-tripdata.csv',\n",
       " 'C:/Users/vbodavul/Downloads/archive (2)\\\\202208-divvy-tripdata.csv',\n",
       " 'C:/Users/vbodavul/Downloads/archive (2)\\\\202210-divvy-tripdata.csv',\n",
       " 'C:/Users/vbodavul/Downloads/archive (2)\\\\202211-divvy-tripdata.csv',\n",
       " 'C:/Users/vbodavul/Downloads/archive (2)\\\\202212-divvy-tripdata.csv',\n",
       " 'C:/Users/vbodavul/Downloads/archive (2)\\\\202301-divvy-tripdata.csv',\n",
       " 'C:/Users/vbodavul/Downloads/archive (2)\\\\202302-divvy-tripdata.csv',\n",
       " 'C:/Users/vbodavul/Downloads/archive (2)\\\\202303-divvy-tripdata.csv',\n",
       " 'C:/Users/vbodavul/Downloads/archive (2)\\\\202304-divvy-tripdata.csv']"
      ]
     },
     "execution_count": 5,
     "metadata": {},
     "output_type": "execute_result"
    }
   ],
   "source": [
    "file_list\n"
   ]
  },
  {
   "cell_type": "code",
   "execution_count": 6,
   "id": "dc968704-be27-457e-a76f-a0ea45173fe5",
   "metadata": {},
   "outputs": [],
   "source": [
    "df = pd.concat((pd.read_csv(file) for file in file_list))"
   ]
  },
  {
   "cell_type": "code",
   "execution_count": 7,
   "id": "edaa8cc3-604c-4753-afe0-d27f9692b9e2",
   "metadata": {},
   "outputs": [
    {
     "data": {
      "text/plain": [
       "ride_id               5157722\n",
       "rideable_type         5157722\n",
       "started_at            5157722\n",
       "ended_at              5157722\n",
       "start_station_name    4429493\n",
       "start_station_id      4429361\n",
       "end_station_name      4379246\n",
       "end_station_id        4379105\n",
       "start_lat             5157722\n",
       "start_lng             5157722\n",
       "end_lat               5152461\n",
       "end_lng               5152461\n",
       "member_casual         5157722\n",
       "dtype: int64"
      ]
     },
     "execution_count": 7,
     "metadata": {},
     "output_type": "execute_result"
    }
   ],
   "source": [
    "df.count()"
   ]
  },
  {
   "cell_type": "code",
   "execution_count": 8,
   "id": "b0b83ade-97a7-4423-a1e5-23f32e824d3d",
   "metadata": {},
   "outputs": [
    {
     "name": "stdout",
     "output_type": "stream",
     "text": [
      "ride_id               5157722\n",
      "rideable_type         5157722\n",
      "started_at            5157722\n",
      "ended_at              5157722\n",
      "start_station_name    4429493\n",
      "start_station_id      4429361\n",
      "end_station_name      4379246\n",
      "end_station_id        4379105\n",
      "start_lat             5157722\n",
      "start_lng             5157722\n",
      "end_lat               5152461\n",
      "end_lng               5152461\n",
      "member_casual         5157722\n",
      "dtype: int64\n"
     ]
    }
   ],
   "source": [
    "print(df.count())"
   ]
  },
  {
   "cell_type": "code",
   "execution_count": 9,
   "id": "42f1bd4e-0543-4c36-a4b5-775c59634e9b",
   "metadata": {},
   "outputs": [],
   "source": [
    "df['started_at'] = pd.to_datetime(df['started_at'])\n",
    "df['ended_at'] = pd.to_datetime(df['ended_at'])\n",
    "df.drop_duplicates(inplace=True)"
   ]
  },
  {
   "cell_type": "code",
   "execution_count": 10,
   "id": "c02d58d1-6cc2-467e-886a-bc2c2b9aab0e",
   "metadata": {},
   "outputs": [],
   "source": [
    "df.to_csv('C:/Users/vbodavul/Downloads/archive (2)/merged_and_cleaned_tripdata.csv', index=False)"
   ]
  },
  {
   "cell_type": "code",
   "execution_count": 11,
   "id": "97e062c3-3057-464a-b98a-dde13a9bea1f",
   "metadata": {},
   "outputs": [],
   "source": [
    "# Function to calculate distance between two points using the Haversine formula\n",
    "def haversine_distance(lat1, lon1, lat2, lon2):\n",
    "    R = 6371.0  # Earth radius in kilometers\n",
    "    lat1, lon1, lat2, lon2 = map(np.radians, [lat1, lon1, lat2, lon2])\n",
    "    dlat = lat2 - lat1\n",
    "    dlon = lon2 - lon1\n",
    "    a = np.sin(dlat / 2) ** 2 + np.cos(lat1) * np.cos(lat2) * np.sin(dlon / 2) ** 2\n",
    "    c = 2 * np.arctan2(np.sqrt(a), np.sqrt(1 - a))\n",
    "    distance = R * c\n",
    "    return distance"
   ]
  },
  {
   "cell_type": "code",
   "execution_count": 12,
   "id": "e438332d-1c7d-4390-9959-b610d85d7802",
   "metadata": {},
   "outputs": [],
   "source": [
    "# Apply the function to calculate distances\n",
    "df['distance_km'] = df.apply(lambda x: haversine_distance(x['start_lat'], x['start_lng'], x['end_lat'], x['end_lng']), axis=1)\n"
   ]
  },
  {
   "cell_type": "markdown",
   "id": "2f9dfb32-58d1-4fdc-ad27-6e04c832b3c8",
   "metadata": {},
   "source": [
    "## Finding the total average distance travelled"
   ]
  },
  {
   "cell_type": "code",
   "execution_count": 13,
   "id": "d405849d-7578-4432-af62-3eaea09828f9",
   "metadata": {},
   "outputs": [],
   "source": [
    "# Calculate the average distance\n",
    "average_distance_km = df['distance_km'].mean()"
   ]
  },
  {
   "cell_type": "code",
   "execution_count": 14,
   "id": "2d2a9a31-cb4f-49b2-b1ea-22ad950a7bde",
   "metadata": {},
   "outputs": [],
   "source": [
    "# Find the most common start location\n",
    "most_common_start_location = df['start_station_name'].mode()[0]"
   ]
  },
  {
   "cell_type": "code",
   "execution_count": 15,
   "id": "02d2fc6d-1e6d-4359-a645-9c12bfafef3a",
   "metadata": {},
   "outputs": [
    {
     "name": "stdout",
     "output_type": "stream",
     "text": [
      "Average distance traveled: 2.1111928089656637 km\n",
      "Most common start location: Streeter Dr & Grand Ave\n"
     ]
    }
   ],
   "source": [
    "# You can print these out or use them as needed\n",
    "print(f\"Average distance traveled: {average_distance_km} km\")\n",
    "print(f\"Most common start location: {most_common_start_location}\")"
   ]
  },
  {
   "cell_type": "markdown",
   "id": "17d23684-2384-4495-885d-5dfaad6b3ec6",
   "metadata": {},
   "source": [
    "## Finding month with maximum distance travelled"
   ]
  },
  {
   "cell_type": "code",
   "execution_count": 16,
   "id": "b8b00a84-af97-4c9d-999f-14863c1048e9",
   "metadata": {},
   "outputs": [],
   "source": [
    "# Extract the month from the 'started_at' column\n",
    "df['month'] = df['started_at'].dt.month"
   ]
  },
  {
   "cell_type": "code",
   "execution_count": 17,
   "id": "6824f973-cae9-429f-9363-2dad06bb2953",
   "metadata": {},
   "outputs": [],
   "source": [
    "# Count the occurrences of each month and find the month with the highest number of rides\n",
    "most_preferred_month = df['month'].value_counts().idxmax()\n"
   ]
  },
  {
   "cell_type": "code",
   "execution_count": 18,
   "id": "6a1b3867-61f3-45f2-a021-85171a712ce6",
   "metadata": {},
   "outputs": [
    {
     "name": "stdout",
     "output_type": "stream",
     "text": [
      "The most preferred month for bicycle riding is: July\n"
     ]
    }
   ],
   "source": [
    "# Translate the numeric month to a month name for readability (optional)\n",
    "import calendar\n",
    "most_preferred_month_name = calendar.month_name[most_preferred_month]\n",
    "\n",
    "print(f\"The most preferred month for bicycle riding is: {most_preferred_month_name}\")"
   ]
  },
  {
   "cell_type": "markdown",
   "id": "ef879dd5-85b6-4388-927f-40d5e61ddf4b",
   "metadata": {},
   "source": [
    "## Maximum distance travelled in a month"
   ]
  },
  {
   "cell_type": "code",
   "execution_count": 19,
   "id": "1d84baec-16cd-43d3-8979-e102d9d1ef5f",
   "metadata": {},
   "outputs": [
    {
     "name": "stdout",
     "output_type": "stream",
     "text": [
      "The month with the most distance traveled is: July with a total distance of 1841373.1294548644 kilometers.\n"
     ]
    }
   ],
   "source": [
    "\n",
    "# Sum the distances for each month\n",
    "monthly_distance_sum = df.groupby('month')['distance_km'].sum()\n",
    "\n",
    "# Find the month with the highest total distance\n",
    "most_distance_month = monthly_distance_sum.idxmax()\n",
    "\n",
    "# Translate the numeric month to a month name for readability (optional)\n",
    "most_distance_month_name = calendar.month_name[most_distance_month]\n",
    "\n",
    "print(f\"The month with the most distance traveled is: {most_distance_month_name} with a total distance of {monthly_distance_sum.max()} kilometers.\")"
   ]
  },
  {
   "cell_type": "code",
   "execution_count": 19,
   "id": "37de55d6-bc99-4ff0-bfa1-96b9d2c83efb",
   "metadata": {},
   "outputs": [
    {
     "name": "stdout",
     "output_type": "stream",
     "text": [
      "The month with the most distance traveled is: July with a total distance of 1841373.1294548644 kilometers.\n"
     ]
    }
   ],
   "source": [
    "\n",
    "# Sum the distances for each month\n",
    "monthly_distance_sum = df.groupby('month')['distance_km'].sum()\n",
    "\n",
    "# Find the month with the highest total distance\n",
    "most_distance_month = monthly_distance_sum.idxmax()\n",
    "\n",
    "# Translate the numeric month to a month name for readability (optional)\n",
    "most_distance_month_name = calendar.month_name[most_distance_month]\n",
    "\n",
    "print(f\"The month with the most distance traveled is: {most_distance_month_name} with a total distance of {monthly_distance_sum.max()} kilometers.\")"
   ]
  },
  {
   "cell_type": "markdown",
   "id": "a91ad025-a920-4017-a1e3-7de5f8dfbb03",
   "metadata": {},
   "source": [
    "## Monthwise Usage Trends"
   ]
  },
  {
   "cell_type": "code",
   "execution_count": 24,
   "id": "28c68f45-ec97-4c3d-9137-09de5d5a9495",
   "metadata": {},
   "outputs": [
    {
     "data": {
      "image/png": "[encoded data removed]",
      "text/plain": [
       "<Figure size 640x480 with 1 Axes>"
      ]
     },
     "metadata": {},
     "output_type": "display_data"
    }
   ],
   "source": [
    "# Monthwise usage trends\n",
    "# Extract month (or other desired time period) for grouping\n",
    "df['month'] = df['started_at'].dt.to_period('M')\n",
    "\n",
    "# Count trips by month\n",
    "usage_trends = df.groupby('month').size()a\n",
    "\n",
    "# Plot\n",
    "usage_trends.plot(kind='bar')\n",
    "plt.title('Usage Trends Over Time')\n",
    "plt.xlabel('Month')\n",
    "plt.ylabel('Number of Trips')\n",
    "plt.xticks(rotation=45)\n",
    "plt.show()\n"
   ]
  },
  {
   "cell_type": "markdown",
   "id": "f8db87e8-12e7-4c1f-9856-ac240aa7b243",
   "metadata": {},
   "source": [
    "## Finding Average Trip Duration and Distance"
   ]
  },
  {
   "cell_type": "code",
   "execution_count": 26,
   "id": "a0131569-bd14-442b-999b-8efa62f47354",
   "metadata": {},
   "outputs": [
    {
     "name": "stdout",
     "output_type": "stream",
     "text": [
      "Average Trip Duration: 18.88451384803862 minutes\n",
      "Average Trip Distance: nan km\n"
     ]
    }
   ],
   "source": [
    "\n",
    "# Calculate duration in minutes\n",
    "df['duration_minutes'] = (df['ended_at'] - df['started_at']).dt.total_seconds() / 60\n",
    "\n",
    "# Average duration\n",
    "average_duration = df['duration_minutes'].mean()\n",
    "\n",
    "# Calculate distances based on start and end coordinates,\n",
    "def calculate_distance(row):\n",
    "    return np.nan  # Replace with actual distance calculation\n",
    "\n",
    "df['distance_km'] = df.apply(calculate_distance, axis=1)\n",
    "\n",
    "# Average distance\n",
    "average_distance = df['distance_km'].mean()\n",
    "\n",
    "print(f'Average Trip Duration: {average_duration} minutes')\n",
    "print(f'Average Trip Distance: {average_distance} km')\n"
   ]
  },
  {
   "cell_type": "code",
   "execution_count": null,
   "id": "8d238766-7037-4e5d-a74b-43afa1fe21b0",
   "metadata": {},
   "outputs": [],
   "source": []
  }
 ],
 "metadata": {
  "kernelspec": {
   "display_name": "Python 3 (ipykernel)",
   "language": "python",
   "name": "python3"
  },
  "language_info": {
   "codemirror_mode": {
    "name": "ipython",
    "version": 3
   },
   "file_extension": ".py",
   "mimetype": "text/x-python",
   "name": "python",
   "nbconvert_exporter": "python",
   "pygments_lexer": "ipython3",
   "version": "3.8.0"
  }
 },
 "nbformat": 4,
 "nbformat_minor": 5
}
