{
 "cells": [
  {
   "cell_type": "code",
   "execution_count": 1,
   "id": "f33fb110",
   "metadata": {},
   "outputs": [
    {
     "name": "stderr",
     "output_type": "stream",
     "text": [
      "/Users/jay/Library/Python/3.9/lib/python/site-packages/urllib3/__init__.py:35: NotOpenSSLWarning: urllib3 v2 only supports OpenSSL 1.1.1+, currently the 'ssl' module is compiled with 'LibreSSL 2.8.3'. See: https://github.com/urllib3/urllib3/issues/3020\n",
      "  warnings.warn(\n"
     ]
    }
   ],
   "source": [
    "import pandas as pd # type: ignore\n",
    "from sklearn.model_selection import train_test_split # type: ignore\n",
    "from sklearn.preprocessing import OneHotEncoder, StandardScaler # type: ignore\n",
    "from sklearn.ensemble import RandomForestClassifier # type: ignore\n",
    "from sklearn.compose import ColumnTransformer # type: ignore\n",
    "from sklearn.pipeline import Pipeline # type: ignore\n",
    "from sklearn.metrics import accuracy_score, confusion_matrix, classification_report # type: ignore\n",
    "from tensorflow.keras.utils import to_categorical # type: ignore"
   ]
  },
  {
   "cell_type": "code",
   "execution_count": 2,
   "id": "0063aaaa-efb0-42c7-873c-e46e7b3176f1",
   "metadata": {},
   "outputs": [
    {
     "name": "stdout",
     "output_type": "stream",
     "text": [
      "Random Forest Accuracy: 0.64\n",
      "Random Forest Confusion Matrix:\n",
      "[[1650972   10486]\n",
      " [ 937518   11376]]\n"
     ]
    }
   ],
   "source": [
    "# Load data\n",
    "data = pd.read_csv('Combined_data.csv')\n",
    "data = data.dropna()\n",
    "\n",
    "# Define features to encode and scale\n",
    "categorical_features = ['member_casual', 'season']  # Corrected to include day_of_week\n",
    "continuous_features = ['TMAX']  # Added missing continuous features\n",
    "\n",
    "# Preprocessor for scaling and encoding\n",
    "preprocessor = ColumnTransformer(\n",
    "    transformers=[\n",
    "        ('num', StandardScaler(), continuous_features),\n",
    "        ('cat', OneHotEncoder(drop='first'), categorical_features)  # drop='first' to avoid multicollinearity\n",
    "    ])\n",
    "\n",
    "# Create pipeline with Random Forest regression\n",
    "pipeline = Pipeline(steps=[\n",
    "    ('preprocessor', preprocessor),\n",
    "    ('classifier', RandomForestClassifier(n_estimators=100, random_state=42))\n",
    "])\n",
    "\n",
    "# Define the features X and target y\n",
    "X = data.drop(['ride_id', 'rideable_type', 'started_at', 'ended_at', 'start_station_name',\n",
    "               'start_station_id', 'end_station_name', 'end_station_id','day_of_week', 'Elevation_Change', 'Distance', 'trip_duration','TMIN'], axis=1)\n",
    "\n",
    "y = data['rideable_type']\n",
    "\n",
    "# Split the data into training and testing sets\n",
    "X_train, X_test, y_train, y_test = train_test_split(X, y, test_size=0.3, random_state=42)\n",
    "\n",
    "# Train the model\n",
    "pipeline.fit(X_train, y_train)\n",
    "\n",
    "# Predict on the test data\n",
    "y_pred = pipeline.predict(X_test)\n",
    "\n",
    "# Evaluate the model\n",
    "accuracy = accuracy_score(y_test, y_pred)\n",
    "conf_matrix = confusion_matrix(y_test, y_pred)\n",
    "\n",
    "# Print results\n",
    "print(f\"Random Forest Accuracy: {accuracy:.2f}\")\n",
    "print(f\"Random Forest Confusion Matrix:\\n{conf_matrix}\")\n"
   ]
  },
  {
   "cell_type": "code",
   "execution_count": 3,
   "id": "491dc25e-8e18-4286-ac60-6d4ca135f16f",
   "metadata": {},
   "outputs": [
    {
     "name": "stdout",
     "output_type": "stream",
     "text": [
      "Random Forest Accuracy: 0.53\n",
      "Random Forest Confusion Matrix:\n",
      "[[ 749533  916209]\n",
      " [ 674585 1075940]]\n"
     ]
    }
   ],
   "source": [
    "# Load data\n",
    "data = pd.read_csv('Combined_data.csv')\n",
    "data['member_casual'] = data['member_casual'].apply(lambda x: 'casual' if pd.isna(x) else x)\n",
    "\n",
    "# Define features to encode and scale\n",
    "categorical_features = ['member_casual', 'season']  # Corrected to include day_of_week\n",
    "continuous_features = ['TMAX']  # Added missing continuous features\n",
    "\n",
    "# Preprocessor for scaling and encoding\n",
    "preprocessor = ColumnTransformer(\n",
    "    transformers=[\n",
    "        ('num', StandardScaler(), continuous_features),\n",
    "        ('cat', OneHotEncoder(drop='first'), categorical_features)  # drop='first' to avoid multicollinearity\n",
    "    ])\n",
    "\n",
    "# Create pipeline with Random Forest regression\n",
    "pipeline = Pipeline(steps=[\n",
    "    ('preprocessor', preprocessor),\n",
    "    ('classifier', RandomForestClassifier(n_estimators=100, random_state=42))\n",
    "])\n",
    "\n",
    "# Define the features X and target y\n",
    "X = data.drop(['ride_id', 'rideable_type', 'started_at', 'ended_at', 'start_station_name',\n",
    "               'start_station_id', 'end_station_name', 'end_station_id','day_of_week', 'Elevation_Change', 'Distance', 'trip_duration','TMIN'], axis=1)\n",
    "\n",
    "y = data['rideable_type']\n",
    "\n",
    "# Split the data into training and testing sets\n",
    "X_train, X_test, y_train, y_test = train_test_split(X, y, test_size=0.3, random_state=42)\n",
    "\n",
    "# Train the model\n",
    "pipeline.fit(X_train, y_train)\n",
    "\n",
    "# Predict on the test data\n",
    "y_pred = pipeline.predict(X_test)\n",
    "\n",
    "# Evaluate the model\n",
    "accuracy = accuracy_score(y_test, y_pred)\n",
    "conf_matrix = confusion_matrix(y_test, y_pred)\n",
    "\n",
    "# Print results\n",
    "print(f\"Random Forest Accuracy: {accuracy:.2f}\")\n",
    "print(f\"Random Forest Confusion Matrix:\\n{conf_matrix}\")"
   ]
  },
  {
   "cell_type": "code",
   "execution_count": 4,
   "id": "254a095b-3ffd-49f2-aadb-f1bf095b236d",
   "metadata": {},
   "outputs": [
    {
     "name": "stdout",
     "output_type": "stream",
     "text": [
      "Logistic Regression Accuracy: 0.54\n",
      "Logistic Regression Confusion Matrix:\n",
      "[[ 843729  822013]\n",
      " [ 746061 1004464]]\n"
     ]
    }
   ],
   "source": [
    "from tensorflow.keras.utils import to_categorical # type: ignore\n",
    "\n",
    "# Load data\n",
    "data = pd.read_csv('Combined_data.csv')\n",
    "data['member_casual'] = data['member_casual'].apply(lambda x: 'casual' if pd.isna(x) else x)\n",
    "\n",
    "# Define features to encode and scale\n",
    "categorical_features = ['member_casual', 'day_of_week']  # Corrected to include day_of_week\n",
    "continuous_features = ['TMAX']  # Added missing continuous features\n",
    "\n",
    "# Preprocessor for scaling and encoding\n",
    "preprocessor = ColumnTransformer(\n",
    "    transformers=[\n",
    "        ('num', StandardScaler(), continuous_features),\n",
    "        ('cat', OneHotEncoder(drop='first'), categorical_features)  # drop='first' to avoid multicollinearity\n",
    "    ])\n",
    "\n",
    "# Create pipeline with logistic regression\n",
    "pipeline = Pipeline(steps=[\n",
    "    ('preprocessor', preprocessor),\n",
    "    ('classifier', RandomForestClassifier(n_estimators=100, random_state=42))\n",
    "])\n",
    "\n",
    "# Define the features X and target y\n",
    "X = data.drop(['ride_id', 'rideable_type', 'started_at', 'ended_at', 'start_station_name',\n",
    "               'start_station_id', 'end_station_name', 'end_station_id', 'season', 'Elevation_Change', 'Distance', 'trip_duration','TMIN'], axis=1)\n",
    "\n",
    "y = data['rideable_type']\n",
    "\n",
    "# Split the data into training and testing sets\n",
    "X_train, X_test, y_train, y_test = train_test_split(X, y, test_size=0.3, random_state=42)\n",
    "\n",
    "# Train the model\n",
    "pipeline.fit(X_train, y_train)\n",
    "\n",
    "# Predict on the test data\n",
    "y_pred = pipeline.predict(X_test)\n",
    "\n",
    "# Evaluate the model\n",
    "accuracy = accuracy_score(y_test, y_pred)\n",
    "conf_matrix = confusion_matrix(y_test, y_pred)\n",
    "\n",
    "# Print results\n",
    "print(f\"Logistic Regression Accuracy: {accuracy:.2f}\")\n",
    "print(f\"Logistic Regression Confusion Matrix:\\n{conf_matrix}\")"
   ]
  },
  {
   "cell_type": "code",
   "execution_count": null,
   "id": "6de68afc-c9d5-4742-9f59-f0d993f6b042",
   "metadata": {},
   "outputs": [],
   "source": []
  }
 ],
 "metadata": {
  "kernelspec": {
   "display_name": "Python 3 (ipykernel)",
   "language": "python",
   "name": "python3"
  },
  "language_info": {
   "codemirror_mode": {
    "name": "ipython",
    "version": 3
   },
   "file_extension": ".py",
   "mimetype": "text/x-python",
   "name": "python",
   "nbconvert_exporter": "python",
   "pygments_lexer": "ipython3",
   "version": "3.9.6"
  }
 },
 "nbformat": 4,
 "nbformat_minor": 5
}
