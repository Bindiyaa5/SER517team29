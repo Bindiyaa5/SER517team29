{
  "nbformat": 4,
  "nbformat_minor": 0,
  "metadata": {
    "colab": {
      "provenance": []
    },
    "kernelspec": {
      "name": "python3",
      "display_name": "Python 3"
    },
    "language_info": {
      "name": "python"
    }
  },
  "cells": [
    {
      "cell_type": "markdown",
      "source": [],
      "metadata": {
        "id": "mYQnayIK_vWe"
      }
    },
    {
      "cell_type": "code",
      "execution_count": 3,
      "metadata": {
        "id": "g8nP8Re4UTc7"
      },
      "outputs": [],
      "source": [
        "import numpy as np\n",
        "import pandas as pd\n",
        "# from sklearn.model_selection import train_test_split\n",
        "# from sklearn.preprocessing import OneHotEncoder\n",
        "# from sklearn.linear_model import LogisticRegression\n",
        "# from sklearn.metrics import accuracy_score, confusion_matrix, classification_report"
      ]
    },
    {
      "cell_type": "code",
      "source": [
        "# Function to calculate distance between two lat-lng points\n",
        "def haversine_distance(lat1, lon1, lat2, lon2):\n",
        "    # Radius of the Earth in kilometers\n",
        "    R = 6371.0\n",
        "    # Convert latitude and longitude from degrees to radians\n",
        "    lat1, lon1, lat2, lon2 = map(np.radians, [lat1, lon1, lat2, lon2])\n",
        "    # Difference in coordinates\n",
        "    dlat = lat2 - lat1\n",
        "    dlon = lon2 - lon1\n",
        "    # Haversine formula\n",
        "    a = np.sin(dlat / 2.0)**2 + np.cos(lat1) * np.cos(lat2) * np.sin(dlon / 2.0)**2\n",
        "    c = 2 * np.arctan2(np.sqrt(a), np.sqrt(1 - a))\n",
        "    # Distance in kilometers\n",
        "    distance = R * c\n",
        "    return distance"
      ],
      "metadata": {
        "id": "_VwKf-VX8Acg"
      },
      "execution_count": 4,
      "outputs": []
    },
    {
      "cell_type": "code",
      "source": [
        "def get_season(month):\n",
        "    if 3 <= month <= 5:\n",
        "        return 'Spring'\n",
        "    elif 6 <= month <= 8:\n",
        "        return 'Summer'\n",
        "    elif 9 <= month <= 11:\n",
        "        return 'Fall'\n",
        "    else:\n",
        "        return 'Winter'"
      ],
      "metadata": {
        "id": "dSFIY36y8D5w"
      },
      "execution_count": 5,
      "outputs": []
    },
    {
      "cell_type": "code",
      "source": [
        "from google.colab import drive\n",
        "drive.mount('/content/drive')"
      ],
      "metadata": {
        "colab": {
          "base_uri": "https://localhost:8080/"
        },
        "id": "H1qtfjZPwHFB",
        "outputId": "c88a0f82-c44d-49bc-be4a-3987e73aaabb"
      },
      "execution_count": 6,
      "outputs": [
        {
          "output_type": "stream",
          "name": "stdout",
          "text": [
            "Drive already mounted at /content/drive; to attempt to forcibly remount, call drive.mount(\"/content/drive\", force_remount=True).\n"
          ]
        }
      ]
    },
    {
      "cell_type": "code",
      "source": [
        "filepath = '/content/drive/My Drive/merged_rides_with_elevation.csv'"
      ],
      "metadata": {
        "id": "Z3Ysal89VDGK"
      },
      "execution_count": 7,
      "outputs": []
    },
    {
      "cell_type": "code",
      "source": [
        "df = pd.read_csv(filepath)"
      ],
      "metadata": {
        "id": "A1D_UjE-VSHY"
      },
      "execution_count": 8,
      "outputs": []
    },
    {
      "cell_type": "code",
      "source": [
        "df.head()"
      ],
      "metadata": {
        "colab": {
          "base_uri": "https://localhost:8080/",
          "height": 141
        },
        "id": "EMG-PewHBD50",
        "outputId": "0b4cefef-6e39-4ed6-bccb-2eb69aba2fc7"
      },
      "execution_count": 1,
      "outputs": [
        {
          "output_type": "error",
          "ename": "NameError",
          "evalue": "name 'df' is not defined",
          "traceback": [
            "\u001b[0;31m---------------------------------------------------------------------------\u001b[0m",
            "\u001b[0;31mNameError\u001b[0m                                 Traceback (most recent call last)",
            "\u001b[0;32m<ipython-input-1-c42a15b2c7cf>\u001b[0m in \u001b[0;36m<cell line: 1>\u001b[0;34m()\u001b[0m\n\u001b[0;32m----> 1\u001b[0;31m \u001b[0mdf\u001b[0m\u001b[0;34m.\u001b[0m\u001b[0mhead\u001b[0m\u001b[0;34m(\u001b[0m\u001b[0;34m)\u001b[0m\u001b[0;34m\u001b[0m\u001b[0;34m\u001b[0m\u001b[0m\n\u001b[0m",
            "\u001b[0;31mNameError\u001b[0m: name 'df' is not defined"
          ]
        }
      ]
    },
    {
      "cell_type": "code",
      "source": [
        "df['Start_Altitude'] = df[['Start_Altitude', 'Start_Altutude', 'State_Altitude']].bfill(axis=1).iloc[:, 0]"
      ],
      "metadata": {
        "id": "jU-E_My-8RAB"
      },
      "execution_count": 9,
      "outputs": []
    },
    {
      "cell_type": "code",
      "source": [
        "df.drop(columns=['State_Altitude', 'Start_Altutude'], inplace=True)\n"
      ],
      "metadata": {
        "id": "PXLTUVjn8SSY"
      },
      "execution_count": 10,
      "outputs": []
    },
    {
      "cell_type": "code",
      "source": [
        "df['End_Altitude'] = df[['End_Altitude', 'end_altitude', 'end_Altitude']].bfill(axis=1).iloc[:, 0]"
      ],
      "metadata": {
        "id": "WxnBT_848UEV"
      },
      "execution_count": 11,
      "outputs": []
    },
    {
      "cell_type": "code",
      "source": [
        "df.drop(columns=['end_Altitude', 'end_altitude'], inplace=True)"
      ],
      "metadata": {
        "id": "Zc5N0S-N8Xw-"
      },
      "execution_count": 12,
      "outputs": []
    },
    {
      "cell_type": "code",
      "source": [
        "df['Start_Altitude'].fillna(method='ffill', inplace=True)\n",
        "df['End_Altitude'].fillna(df['End_Altitude'].mean(), inplace=True)"
      ],
      "metadata": {
        "id": "G15bR_Xi8YMs"
      },
      "execution_count": 13,
      "outputs": []
    },
    {
      "cell_type": "code",
      "source": [
        "from sklearn.impute import SimpleImputer\n",
        "df['Elevation_Change'] = df['End_Altitude'] - df['Start_Altitude']"
      ],
      "metadata": {
        "id": "aDOQ2_jh8Z2D"
      },
      "execution_count": 14,
      "outputs": []
    },
    {
      "cell_type": "code",
      "source": [
        "imputer = SimpleImputer(strategy='mean')\n",
        "df['Elevation_Change'] = imputer.fit_transform(df[['Elevation_Change']])"
      ],
      "metadata": {
        "id": "z7mzCdCe8c0Y"
      },
      "execution_count": 15,
      "outputs": []
    },
    {
      "cell_type": "code",
      "source": [
        "df = df.drop(columns=['Start_Altitude', 'End_Altitude'])"
      ],
      "metadata": {
        "id": "kfBtqABK8fEu"
      },
      "execution_count": 16,
      "outputs": []
    },
    {
      "cell_type": "code",
      "source": [
        "df['Distance'] = df.apply(lambda x: haversine_distance(x['start_lat'], x['start_lng'], x['end_lat'], x['end_lng']), axis=1)"
      ],
      "metadata": {
        "id": "0p32_NTW8hLO"
      },
      "execution_count": 17,
      "outputs": []
    },
    {
      "cell_type": "code",
      "source": [
        "df = df.drop(columns=['start_lat', 'start_lng', 'end_lat', 'end_lng'])"
      ],
      "metadata": {
        "id": "x14Wudiz8isn"
      },
      "execution_count": 18,
      "outputs": []
    },
    {
      "cell_type": "code",
      "source": [
        "df['started_at'] = pd.to_datetime(df['started_at'])\n",
        "df['ended_at'] = pd.to_datetime(df['ended_at'])"
      ],
      "metadata": {
        "id": "e0KQ9fK-8kzH"
      },
      "execution_count": 19,
      "outputs": []
    },
    {
      "cell_type": "code",
      "source": [
        "df['season'] = df['started_at'].dt.month.map(get_season)"
      ],
      "metadata": {
        "id": "p1q8pOtQ8oqk"
      },
      "execution_count": 20,
      "outputs": []
    },
    {
      "cell_type": "code",
      "source": [
        "def get_day_of_week(timestamp):\n",
        "    return timestamp.strftime(\"%A\")"
      ],
      "metadata": {
        "id": "tD0sz5pR8qRU"
      },
      "execution_count": 21,
      "outputs": []
    },
    {
      "cell_type": "code",
      "source": [
        "# Apply the function to each row in the DataFrame\n",
        "df['day_of_week'] = df['started_at'].apply(get_day_of_week)"
      ],
      "metadata": {
        "id": "0QDRhhiq8rwo"
      },
      "execution_count": 22,
      "outputs": []
    },
    {
      "cell_type": "code",
      "source": [
        "df['trip_duration'] = (df['ended_at'] - df['started_at']).dt.total_seconds() / 60"
      ],
      "metadata": {
        "id": "47N7hqWU8tfk"
      },
      "execution_count": 23,
      "outputs": []
    },
    {
      "cell_type": "code",
      "source": [
        "weatherData = '/content/drive/My Drive/3667056.csv'"
      ],
      "metadata": {
        "id": "V9BYBSkO8vsX"
      },
      "execution_count": 26,
      "outputs": []
    },
    {
      "cell_type": "code",
      "source": [
        "tempData = pd.read_csv(weatherData)"
      ],
      "metadata": {
        "id": "wsA7FHzH8yG-"
      },
      "execution_count": 27,
      "outputs": []
    },
    {
      "cell_type": "code",
      "source": [
        "tempData['started_at'] = pd.to_datetime(tempData['DATE'])\n",
        "tempData['started_at'] = tempData['started_at'].dt.date"
      ],
      "metadata": {
        "id": "JFVHFvKD8zeI"
      },
      "execution_count": 28,
      "outputs": []
    },
    {
      "cell_type": "code",
      "source": [
        "df['started_at'] = df['started_at'].dt.date"
      ],
      "metadata": {
        "id": "5GtoRtqc80yz"
      },
      "execution_count": 29,
      "outputs": []
    },
    {
      "cell_type": "code",
      "source": [
        "df = pd.merge(df, tempData[['started_at', 'TMAX', 'TMIN']], on='started_at', how='left')"
      ],
      "metadata": {
        "id": "KAx4_uIq83oh"
      },
      "execution_count": 30,
      "outputs": []
    },
    {
      "cell_type": "code",
      "source": [
        "# ride_types = dfs['rideable_type'].unique()"
      ],
      "metadata": {
        "id": "zmZv9f06zLjI"
      },
      "execution_count": 9,
      "outputs": []
    },
    {
      "cell_type": "code",
      "source": [
        "# print(ride_types)"
      ],
      "metadata": {
        "colab": {
          "base_uri": "https://localhost:8080/"
        },
        "id": "gW1XWm2MznRV",
        "outputId": "ecb49ed1-f2b3-447a-e3a4-284daf8dfdaf"
      },
      "execution_count": 10,
      "outputs": [
        {
          "output_type": "stream",
          "name": "stdout",
          "text": [
            "['electric_bike' 'classic_bike' 'docked_bike']\n"
          ]
        }
      ]
    },
    {
      "cell_type": "code",
      "source": [
        "df['rideable_type'] = df['rideable_type'].replace({\n",
        "    'electric_bike': 'electric',\n",
        "    'docked_bike': 'classic',\n",
        "    'classic_bike': 'classic'\n",
        "})"
      ],
      "metadata": {
        "id": "nVFSf38kzvLO"
      },
      "execution_count": 32,
      "outputs": []
    },
    {
      "cell_type": "code",
      "source": [],
      "metadata": {
        "id": "3wys7n5vF8RL"
      },
      "execution_count": null,
      "outputs": []
    },
    {
      "cell_type": "code",
      "source": [
        "# print(dfs)"
      ],
      "metadata": {
        "colab": {
          "base_uri": "https://localhost:8080/"
        },
        "id": "jKxR0q0V0FYx",
        "outputId": "285675dc-2dd9-4040-c7b0-571aa63a1241"
      },
      "execution_count": 14,
      "outputs": [
        {
          "output_type": "stream",
          "name": "stdout",
          "text": [
            "                   ride_id rideable_type        started_at          ended_at  \\\n",
            "0         C2F7DD78E82EC875      electric   1/13/2022 11:59   1/13/2022 12:02   \n",
            "1         A6CF8980A652D272      electric    1/10/2022 8:41    1/10/2022 8:46   \n",
            "2         BD0F91DFF741C66D       classic    1/25/2022 4:53    1/25/2022 4:58   \n",
            "3         CBB80ED419105406       classic     1/4/2022 0:18     1/4/2022 0:33   \n",
            "4         DDC963BFDDA51EEA       classic    1/20/2022 1:31    1/20/2022 1:37   \n",
            "...                    ...           ...               ...               ...   \n",
            "11387550  F74DF9549B504A6B      electric   12/7/2023 13:15   12/7/2023 13:17   \n",
            "11387551  BCDA66E761CC1029       classic   12/8/2023 18:42   12/8/2023 18:45   \n",
            "11387552  D2CF330F9C266683       classic   12/5/2023 14:09   12/5/2023 14:13   \n",
            "11387553  3829A0D1E00EE970      electric   12/2/2023 21:36   12/2/2023 21:53   \n",
            "11387554  A373F5B447AEA508       classic  12/11/2023 13:07  12/11/2023 13:11   \n",
            "\n",
            "                     start_station_name start_station_id  \\\n",
            "0              Glenwood Ave & Touhy Ave              525   \n",
            "1              Glenwood Ave & Touhy Ave              525   \n",
            "2         Sheffield Ave & Fullerton Ave     TA1306000016   \n",
            "3              Clark St & Bryn Mawr Ave     KA1504000151   \n",
            "4           Michigan Ave & Jackson Blvd     TA1309000002   \n",
            "...                                 ...              ...   \n",
            "11387550              900 W Harrison St            13028   \n",
            "11387551              900 W Harrison St            13028   \n",
            "11387552              900 W Harrison St            13028   \n",
            "11387553         Damen Ave & Madison St            13134   \n",
            "11387554              900 W Harrison St            13028   \n",
            "\n",
            "                       end_station_name end_station_id  start_lat  start_lng  \\\n",
            "0                  Clark St & Touhy Ave         RP-007  42.012800 -87.665906   \n",
            "1                  Clark St & Touhy Ave         RP-007  42.012763 -87.665967   \n",
            "2         Greenview Ave & Fullerton Ave   TA1307000001  41.925602 -87.653708   \n",
            "3             Paulina St & Montrose Ave   TA1309000021  41.983593 -87.669154   \n",
            "4                State St & Randolph St   TA1305000029  41.877850 -87.624080   \n",
            "...                                 ...            ...        ...        ...   \n",
            "11387550     Racine Ave & Congress Pkwy   TA1306000025  41.874702 -87.649804   \n",
            "11387551     Racine Ave & Congress Pkwy   TA1306000025  41.874754 -87.649807   \n",
            "11387552     Racine Ave & Congress Pkwy   TA1306000025  41.874754 -87.649807   \n",
            "11387553           Morgan St & Lake St*   chargingstx4  41.881396 -87.674984   \n",
            "11387554     Racine Ave & Congress Pkwy   TA1306000025  41.874754 -87.649807   \n",
            "\n",
            "            end_lat    end_lng member_casual  Start_Altitude  End_Altitude  \\\n",
            "0         42.012560 -87.674367        casual           184.1         603.6   \n",
            "1         42.012560 -87.674367        casual           184.6         603.6   \n",
            "2         41.925330 -87.665800        member           181.7         592.5   \n",
            "3         41.961507 -87.671387        casual           182.9         598.1   \n",
            "4         41.884621 -87.627834        member           182.5         594.7   \n",
            "...             ...        ...           ...             ...           ...   \n",
            "11387550  41.874640 -87.657030        casual           180.0         180.2   \n",
            "11387551  41.874640 -87.657030        casual           179.9         180.2   \n",
            "11387552  41.874640 -87.657030        member           179.9         180.2   \n",
            "11387553  41.885492 -87.652289        casual           181.2         180.4   \n",
            "11387554  41.874640 -87.657030        member           179.9         180.2   \n",
            "\n",
            "          end_altitude  end_Altitude  Start_Altutude  State_Altitude  \\\n",
            "0                  NaN           NaN             NaN             NaN   \n",
            "1                  NaN           NaN             NaN             NaN   \n",
            "2                  NaN           NaN             NaN             NaN   \n",
            "3                  NaN           NaN             NaN             NaN   \n",
            "4                  NaN           NaN             NaN             NaN   \n",
            "...                ...           ...             ...             ...   \n",
            "11387550           NaN           NaN             NaN             NaN   \n",
            "11387551           NaN           NaN             NaN             NaN   \n",
            "11387552           NaN           NaN             NaN             NaN   \n",
            "11387553           NaN           NaN             NaN             NaN   \n",
            "11387554           NaN           NaN             NaN             NaN   \n",
            "\n",
            "          Elevation_Change  \n",
            "0                    419.5  \n",
            "1                    419.0  \n",
            "2                    410.8  \n",
            "3                    415.2  \n",
            "4                    412.2  \n",
            "...                    ...  \n",
            "11387550               0.2  \n",
            "11387551               0.3  \n",
            "11387552               0.3  \n",
            "11387553              -0.8  \n",
            "11387554               0.3  \n",
            "\n",
            "[11387555 rows x 20 columns]\n"
          ]
        }
      ]
    }
  ]
}