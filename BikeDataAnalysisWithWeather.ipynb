{
  "nbformat": 4,
  "nbformat_minor": 0,
  "metadata": {
    "colab": {
      "provenance": []
    },
    "kernelspec": {
      "name": "python3",
      "display_name": "Python 3"
    },
    "language_info": {
      "name": "python"
    }
  },
  "cells": [
    {
      "cell_type": "markdown",
      "source": [
        "We got weather information for Chicago from May 2022 to April 2023 from the WeatherSpark website. This site gives detailed weather reports, including things like temperature and rain, for places all around the world. We used it to find out what the weather was like in Chicago during this time. This information will help us look into how the weather might affect Bike usage in the city"
      ],
      "metadata": {
        "id": "9amatJVekE8P"
      }
    },
    {
      "cell_type": "code",
      "source": [
        "import pandas as pd\n",
        "\n",
        "df = pd.read_csv('/content/combined-divvy-tripdata.csv')\n",
        "df['started_at'] = pd.to_datetime(df['started_at'])\n",
        "\n",
        "# Monthly average temperatures for Chicago from May 2022 to April 2023 got from the\n",
        "# https://weatherspark.com/h/s/14091/2023/0/Historical-Weather-Spring-2023-in-Chicago-Illinois-United-States#Figures-Temperature\n",
        "monthly_avg_temperatures = [65, 75, 82, 77, 68, 53, 45, 32, 27, 29, 31, 42]\n",
        "\n",
        "df['month'] = df['started_at'].dt.month\n",
        "df['year'] = df['started_at'].dt.year\n",
        "\n",
        "def assign_temperature(row):\n",
        "    index = (row['month'] - 5) % 12\n",
        "    if row['year'] == 2022 and row['month'] < 5:\n",
        "        index = 12\n",
        "    return monthly_avg_temperatures[index]\n",
        "\n",
        "df['weather'] = df.apply(assign_temperature, axis=1)\n",
        "df.drop(columns=['month', 'year'], inplace=True)\n",
        "print(df)\n"
      ],
      "metadata": {
        "id": "foVtWei5EnuY",
        "colab": {
          "base_uri": "https://localhost:8080/"
        },
        "outputId": "24fce352-87da-4f32-f242-545e3aa76578"
      },
      "execution_count": 19,
      "outputs": [
        {
          "output_type": "stream",
          "name": "stdout",
          "text": [
            "                  ride_id  rideable_type          started_at  \\\n",
            "0        EC2DE40644C6B0F4   classic_bike 2022-05-23 23:06:58   \n",
            "1        1C31AD03897EE385   classic_bike 2022-05-11 08:53:28   \n",
            "2        1542FBEC830415CF   classic_bike 2022-05-26 18:36:28   \n",
            "3        6FF59852924528F8   classic_bike 2022-05-10 07:30:07   \n",
            "4        483C52CAAE12E3AC   classic_bike 2022-05-10 17:31:56   \n",
            "...                   ...            ...                 ...   \n",
            "5853083  8B441A6C436E9900   classic_bike 2023-04-29 21:20:21   \n",
            "5853084  3980D64BE11540F1   classic_bike 2023-04-24 09:16:05   \n",
            "5853085  3EF4B49FF7DAA02C   classic_bike 2023-04-18 07:53:51   \n",
            "5853086  210B2ED6583DC231   classic_bike 2023-04-29 07:33:55   \n",
            "5853087  D29CB39B9E3FC46A  electric_bike 2023-04-18 08:00:32   \n",
            "\n",
            "                    ended_at                 start_station_name  \\\n",
            "0        2022-05-23 23:40:19             Wabash Ave & Grand Ave   \n",
            "1        2022-05-11 09:31:22  DuSable Lake Shore Dr & Monroe St   \n",
            "2        2022-05-26 18:58:18            Clinton St & Madison St   \n",
            "3        2022-05-10 07:38:49            Clinton St & Madison St   \n",
            "4        2022-05-10 17:36:57            Clinton St & Madison St   \n",
            "...                      ...                                ...   \n",
            "5853083  2023-04-29 21:30:19               Halsted St & 18th St   \n",
            "5853084  2023-04-24 09:22:27               Halsted St & 18th St   \n",
            "5853085  2023-04-18 07:59:16         Franklin St & Jackson Blvd   \n",
            "5853086  2023-04-29 07:38:57             Michigan Ave & Lake St   \n",
            "5853087  2023-04-18 08:02:35         Franklin St & Jackson Blvd   \n",
            "\n",
            "        start_station_id             end_station_name end_station_id  \\\n",
            "0           TA1307000117       Halsted St & Roscoe St   TA1309000025   \n",
            "1                  13300  Field Blvd & South Water St          15534   \n",
            "2           TA1305000032      Wood St & Milwaukee Ave          13221   \n",
            "3           TA1305000032       Clark St & Randolph St   TA1305000030   \n",
            "4           TA1305000032          Morgan St & Lake St   TA1306000015   \n",
            "...                  ...                          ...            ...   \n",
            "5853083            13099    Blue Island Ave & 18th St          13135   \n",
            "5853084            13099    Blue Island Ave & 18th St          13135   \n",
            "5853085     TA1305000025       Clark St & Randolph St   TA1305000030   \n",
            "5853086     TA1305000011       Clark St & Randolph St   TA1305000030   \n",
            "5853087     TA1305000025    Clark St & Ida B Wells Dr   TA1305000009   \n",
            "\n",
            "         start_lat  start_lng    end_lat    end_lng member_casual  weather  \n",
            "0        41.891466 -87.626761  41.943670 -87.648950        member       65  \n",
            "1        41.880958 -87.616743  41.886349 -87.617517        member       65  \n",
            "2        41.882242 -87.641066  41.907655 -87.672552        member       65  \n",
            "3        41.882242 -87.641066  41.884576 -87.631890        member       65  \n",
            "4        41.882242 -87.641066  41.885779 -87.651025        member       65  \n",
            "...            ...        ...        ...        ...           ...      ...  \n",
            "5853083  41.857506 -87.645991  41.857556 -87.661535        casual       42  \n",
            "5853084  41.857506 -87.645991  41.857556 -87.661535        casual       42  \n",
            "5853085  41.877708 -87.635321  41.884576 -87.631890        casual       42  \n",
            "5853086  41.886022 -87.624398  41.884576 -87.631890        casual       42  \n",
            "5853087  41.878134 -87.635255  41.875933 -87.630585        casual       42  \n",
            "\n",
            "[5853088 rows x 14 columns]\n"
          ]
        }
      ]
    }
  ]
}