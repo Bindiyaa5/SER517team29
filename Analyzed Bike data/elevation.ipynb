{
 "cells": [
  {
   "cell_type": "code",
   "execution_count": 1,
   "id": "4deaa405-82b4-4359-8961-31c3fcf98e04",
   "metadata": {},
   "outputs": [],
   "source": [
    "import pandas as pd\n",
    "import os\n",
    "from glob import glob\n",
    "\n",
    "# Use glob to match the file pattern and get all file paths\n",
    "file_paths = 'C:/Users/vbodavul/Documents/Data/merged_rides_with_elevation.csv'\n",
    "\n",
    "df = pd.read_csv(file_paths)\n"
   ]
  },
  {
   "cell_type": "code",
   "execution_count": 2,
   "id": "1e1c0b51-2185-429f-99c1-648b7294237e",
   "metadata": {},
   "outputs": [],
   "source": [
    "df\n",
    "dfs = df"
   ]
  },
  {
   "cell_type": "code",
   "execution_count": 3,
   "id": "0c796a3b-5c1a-4956-b041-1258f4b1ffd1",
   "metadata": {},
   "outputs": [
    {
     "name": "stdout",
     "output_type": "stream",
     "text": [
      "                   ride_id  rideable_type        started_at          ended_at  \\\n",
      "0         C2F7DD78E82EC875  electric_bike   1/13/2022 11:59   1/13/2022 12:02   \n",
      "1         A6CF8980A652D272  electric_bike    1/10/2022 8:41    1/10/2022 8:46   \n",
      "2         BD0F91DFF741C66D   classic_bike    1/25/2022 4:53    1/25/2022 4:58   \n",
      "3         CBB80ED419105406   classic_bike     1/4/2022 0:18     1/4/2022 0:33   \n",
      "4         DDC963BFDDA51EEA   classic_bike    1/20/2022 1:31    1/20/2022 1:37   \n",
      "...                    ...            ...               ...               ...   \n",
      "11387550  F74DF9549B504A6B  electric_bike   12/7/2023 13:15   12/7/2023 13:17   \n",
      "11387551  BCDA66E761CC1029   classic_bike   12/8/2023 18:42   12/8/2023 18:45   \n",
      "11387552  D2CF330F9C266683   classic_bike   12/5/2023 14:09   12/5/2023 14:13   \n",
      "11387553  3829A0D1E00EE970  electric_bike   12/2/2023 21:36   12/2/2023 21:53   \n",
      "11387554  A373F5B447AEA508   classic_bike  12/11/2023 13:07  12/11/2023 13:11   \n",
      "\n",
      "                     start_station_name start_station_id  \\\n",
      "0              Glenwood Ave & Touhy Ave              525   \n",
      "1              Glenwood Ave & Touhy Ave              525   \n",
      "2         Sheffield Ave & Fullerton Ave     TA1306000016   \n",
      "3              Clark St & Bryn Mawr Ave     KA1504000151   \n",
      "4           Michigan Ave & Jackson Blvd     TA1309000002   \n",
      "...                                 ...              ...   \n",
      "11387550              900 W Harrison St            13028   \n",
      "11387551              900 W Harrison St            13028   \n",
      "11387552              900 W Harrison St            13028   \n",
      "11387553         Damen Ave & Madison St            13134   \n",
      "11387554              900 W Harrison St            13028   \n",
      "\n",
      "                       end_station_name end_station_id  start_lat  start_lng  \\\n",
      "0                  Clark St & Touhy Ave         RP-007  42.012800 -87.665906   \n",
      "1                  Clark St & Touhy Ave         RP-007  42.012763 -87.665967   \n",
      "2         Greenview Ave & Fullerton Ave   TA1307000001  41.925602 -87.653708   \n",
      "3             Paulina St & Montrose Ave   TA1309000021  41.983593 -87.669154   \n",
      "4                State St & Randolph St   TA1305000029  41.877850 -87.624080   \n",
      "...                                 ...            ...        ...        ...   \n",
      "11387550     Racine Ave & Congress Pkwy   TA1306000025  41.874702 -87.649804   \n",
      "11387551     Racine Ave & Congress Pkwy   TA1306000025  41.874754 -87.649807   \n",
      "11387552     Racine Ave & Congress Pkwy   TA1306000025  41.874754 -87.649807   \n",
      "11387553           Morgan St & Lake St*   chargingstx4  41.881396 -87.674984   \n",
      "11387554     Racine Ave & Congress Pkwy   TA1306000025  41.874754 -87.649807   \n",
      "\n",
      "            end_lat    end_lng member_casual  Start_Altitude  End_Altitude  \\\n",
      "0         42.012560 -87.674367        casual           184.1         603.6   \n",
      "1         42.012560 -87.674367        casual           184.6         603.6   \n",
      "2         41.925330 -87.665800        member           181.7         592.5   \n",
      "3         41.961507 -87.671387        casual           182.9         598.1   \n",
      "4         41.884621 -87.627834        member           182.5         594.7   \n",
      "...             ...        ...           ...             ...           ...   \n",
      "11387550  41.874640 -87.657030        casual           180.0         180.2   \n",
      "11387551  41.874640 -87.657030        casual           179.9         180.2   \n",
      "11387552  41.874640 -87.657030        member           179.9         180.2   \n",
      "11387553  41.885492 -87.652289        casual           181.2         180.4   \n",
      "11387554  41.874640 -87.657030        member           179.9         180.2   \n",
      "\n",
      "          end_altitude  end_Altitude  Start_Altutude  State_Altitude  \\\n",
      "0                  NaN           NaN             NaN             NaN   \n",
      "1                  NaN           NaN             NaN             NaN   \n",
      "2                  NaN           NaN             NaN             NaN   \n",
      "3                  NaN           NaN             NaN             NaN   \n",
      "4                  NaN           NaN             NaN             NaN   \n",
      "...                ...           ...             ...             ...   \n",
      "11387550           NaN           NaN             NaN             NaN   \n",
      "11387551           NaN           NaN             NaN             NaN   \n",
      "11387552           NaN           NaN             NaN             NaN   \n",
      "11387553           NaN           NaN             NaN             NaN   \n",
      "11387554           NaN           NaN             NaN             NaN   \n",
      "\n",
      "          Elevation_Change  \n",
      "0                    419.5  \n",
      "1                    419.0  \n",
      "2                    410.8  \n",
      "3                    415.2  \n",
      "4                    412.2  \n",
      "...                    ...  \n",
      "11387550               0.2  \n",
      "11387551               0.3  \n",
      "11387552               0.3  \n",
      "11387553              -0.8  \n",
      "11387554               0.3  \n",
      "\n",
      "[11387555 rows x 20 columns]\n"
     ]
    }
   ],
   "source": [
    "print(df)"
   ]
  },
  {
   "cell_type": "code",
   "execution_count": 4,
   "id": "16abecd6-4a34-4266-9557-01c4bf6a28be",
   "metadata": {},
   "outputs": [],
   "source": [
    "\n",
    "\n",
    "dfs = dfs.drop(columns=['end_altitude', 'end_Altitude', 'Start_Altutude', 'State_Altitude'])\n",
    "\n",
    "# Replace missing values with some form of imputation if necessary\n",
    "# For now, we'll just drop rows with NaN in 'End_Altitude'\n",
    "dfs = dfs.dropna(subset=['End_Altitude'])"
   ]
  },
  {
   "cell_type": "code",
   "execution_count": 5,
   "id": "d9bb7411-35a6-4107-8ad6-9bd37c15ce07",
   "metadata": {},
   "outputs": [],
   "source": [
    "from sklearn.impute import SimpleImputer\n",
    "dfs['Elevation_Change'] = dfs['End_Altitude'] - dfs['Start_Altitude']\n",
    "# Impute the missing values in 'Elevation_Change'\n",
    "imputer = SimpleImputer(strategy='mean')  # or strategy='median' if that's more appropriate\n",
    "dfs['Elevation_Change'] = imputer.fit_transform(dfs[['Elevation_Change']])\n",
    "\n",
    "# Continue with your model fitting as before\n"
   ]
  },
  {
   "cell_type": "code",
   "execution_count": 6,
   "id": "48561a9c-3052-4617-8c71-36adb2fd040d",
   "metadata": {},
   "outputs": [],
   "source": [
    "dfs['rideable_type'] = df['rideable_type'].replace({\n",
    "    'electric_bike': 'electric',\n",
    "    'docked_bike': 'classic',\n",
    "    'classic_bike': 'classic'\n",
    "})"
   ]
  },
  {
   "cell_type": "code",
   "execution_count": 7,
   "id": "5ab3b1dc-1d92-45f9-9190-e63c07ce738e",
   "metadata": {},
   "outputs": [],
   "source": [
    "# Optimize data types\n",
    "for col in ['rideable_type', 'member_casual']:\n",
    "    dfs[col] = dfs[col].astype('category')\n",
    "\n",
    "# If 'Elevation_Change' has no decimal values and is within a reasonable range, \n",
    "# you can convert it to a smaller integer type\n",
    "dfs['Elevation_Change'] = pd.to_numeric(dfs['Elevation_Change'], downcast='float')\n"
   ]
  },
  {
   "cell_type": "code",
   "execution_count": 8,
   "id": "3b8751c7-3675-4200-84ad-a5fe19cd9557",
   "metadata": {},
   "outputs": [
    {
     "data": {
      "text/plain": [
       "69"
      ]
     },
     "execution_count": 8,
     "metadata": {},
     "output_type": "execute_result"
    }
   ],
   "source": [
    "import gc\n",
    "\n",
    "# Sample a fraction of the data\n",
    "dfs_sample = dfs.sample(frac=0.1, random_state=1)\n",
    "del dfs  # Delete the original dataframe if no longer needed\n",
    "gc.collect()  # Invoke garbage collector\n"
   ]
  },
  {
   "cell_type": "code",
   "execution_count": 9,
   "id": "9c42a1b1-60a0-4f2e-ba3d-b6589b9e32f9",
   "metadata": {},
   "outputs": [
    {
     "name": "stdout",
     "output_type": "stream",
     "text": [
      "              precision    recall  f1-score   support\n",
      "\n",
      "           0       0.54      0.01      0.03     87654\n",
      "           1       0.53      0.99      0.69     96598\n",
      "\n",
      "    accuracy                           0.53    184252\n",
      "   macro avg       0.53      0.50      0.36    184252\n",
      "weighted avg       0.53      0.53      0.37    184252\n",
      "\n",
      "[[ 1140 86514]\n",
      " [  958 95640]]\n"
     ]
    },
    {
     "data": {
      "image/png": "[encoded data removed]",
      "text/plain": [
       "<Figure size 640x480 with 2 Axes>"
      ]
     },
     "metadata": {},
     "output_type": "display_data"
    },
    {
     "data": {
      "image/png": "[encoded data removed]",
      "text/plain": [
       "<Figure size 640x480 with 1 Axes>"
      ]
     },
     "metadata": {},
     "output_type": "display_data"
    }
   ],
   "source": [
    "from sklearn.model_selection import train_test_split\n",
    "from sklearn.linear_model import LogisticRegression\n",
    "from sklearn.metrics import classification_report, confusion_matrix\n",
    "from sklearn.preprocessing import LabelEncoder\n",
    "import seaborn as sns\n",
    "import matplotlib.pyplot as plt\n",
    "\n",
    "\n",
    "\n",
    "# Encode the categorical target variable 'rideable_type'\n",
    "label_encoder = LabelEncoder()\n",
    "dfs_sample['rideable_type_encoded'] = label_encoder.fit_transform(dfs_sample['rideable_type'])\n",
    "\n",
    "# Define features and target\n",
    "X = dfs_sample[['Elevation_Change']] \n",
    "# Ensure no NaN values in features\n",
    "X  = X.fillna(X.mean())\n",
    "# Features\n",
    "y = dfs_sample['rideable_type_encoded']  # Target\n",
    "\n",
    "# Split the data into training and testing sets\n",
    "X_train, X_test, y_train, y_test = train_test_split(X, y, test_size=0.2, random_state=42)\n",
    "\n",
    "# Fit Logistic Regression\n",
    "log_reg = LogisticRegression()\n",
    "log_reg.fit(X_train, y_train)\n",
    "\n",
    "# Predict on the testing set\n",
    "y_pred = log_reg.predict(X_test)\n",
    "\n",
    "# Evaluate the model\n",
    "print(classification_report(y_test, y_pred))\n",
    "print(confusion_matrix(y_test, y_pred))\n",
    "\n",
    "# Confusion matrix plot\n",
    "conf_mat = confusion_matrix(y_test, y_pred)\n",
    "sns.heatmap(conf_mat, annot=True, fmt='d', cmap='Blues')\n",
    "plt.xlabel('Predicted')\n",
    "plt.ylabel('Actual')\n",
    "plt.show()\n",
    "\n",
    "# Predicted probabilities for the test set\n",
    "y_pred_probs = log_reg.predict_proba(X_test)\n",
    "\n",
    "# Plot of predicted probabilities\n",
    "plt.hist(y_pred_probs[:, 1], bins=30, alpha=0.7, color='red', label='Predicted probabilities')\n",
    "plt.xlabel('Predicted probability of electric bike')\n",
    "plt.ylabel('Frequency')\n",
    "plt.legend()\n",
    "plt.show()\n"
   ]
  },
  {
   "cell_type": "code",
   "execution_count": 10,
   "id": "a4c7bba3-fcd0-4cfd-bc71-f7e1191b4572",
   "metadata": {},
   "outputs": [],
   "source": [
    "import pandas as pd\n",
    "from sklearn.model_selection import train_test_split\n",
    "from sklearn.impute import SimpleImputer\n",
    "\n",
    "# Assume 'dfs' is your DataFrame and it has been loaded and preprocessed appropriately\n",
    "\n",
    "# First, handle NaNs before splitting into train and test sets\n",
    "# Option 1: Impute NaNs (filling NaNs with the mean, median, or another statistic)\n",
    "imputer = SimpleImputer(strategy='mean')  # Can use 'median' or 'most_frequent' if more appropriate\n",
    "dfs_sample['Elevation_Change'] = imputer.fit_transform(dfs_sample[['Elevation_Change']])\n",
    "\n",
    "# Option 2: Drop rows with NaNs\n",
    "# This should be done only if imputation is not suitable and the number of missing values is not significant\n",
    "dfs_sample = dfs_sample.dropna(subset=['Elevation_Change'])\n",
    "\n",
    "# Now split the data into training and testing sets\n",
    "X = dfs_sample[['Elevation_Change']]  # Assuming 'Elevation_Change' is your feature\n",
    "y = dfs_sample['rideable_type']  # Assuming 'rideable_type' is your target variable\n",
    "\n",
    "X_train, X_test, y_train, y_test = train_test_split(X, y, test_size=0.2, random_state=42)\n",
    "\n",
    "# Continue with model training and evaluation\n"
   ]
  },
  {
   "cell_type": "code",
   "execution_count": null,
   "id": "89ceba9c-aed8-43ee-bdaf-a062199f6087",
   "metadata": {},
   "outputs": [
    {
     "name": "stdout",
     "output_type": "stream",
     "text": [
      "Decision Tree Classification Report:\n",
      "              precision    recall  f1-score   support\n",
      "\n",
      "     classic       0.54      0.21      0.31     87654\n",
      "    electric       0.54      0.83      0.65     96598\n",
      "\n",
      "    accuracy                           0.54    184252\n",
      "   macro avg       0.54      0.52      0.48    184252\n",
      "weighted avg       0.54      0.54      0.49    184252\n",
      "\n",
      "Decision Tree Confusion Matrix:\n",
      "[[18692 68962]\n",
      " [16042 80556]]\n",
      "\n",
      "Random Forest Classification Report:\n",
      "              precision    recall  f1-score   support\n",
      "\n",
      "     classic       0.54      0.21      0.31     87654\n",
      "    electric       0.54      0.83      0.65     96598\n",
      "\n",
      "    accuracy                           0.54    184252\n",
      "   macro avg       0.54      0.52      0.48    184252\n",
      "weighted avg       0.54      0.54      0.49    184252\n",
      "\n",
      "Random Forest Confusion Matrix:\n",
      "[[18676 68978]\n",
      " [16023 80575]]\n",
      "\n"
     ]
    }
   ],
   "source": [
    "from sklearn.tree import DecisionTreeClassifier\n",
    "from sklearn.ensemble import RandomForestClassifier\n",
    "from sklearn.svm import SVC\n",
    "from sklearn.neighbors import KNeighborsClassifier\n",
    "from sklearn.ensemble import GradientBoostingClassifier\n",
    "from sklearn.metrics import classification_report, confusion_matrix\n",
    "\n",
    "models = {\n",
    "    'Decision Tree': DecisionTreeClassifier(),\n",
    "    'Random Forest': RandomForestClassifier(),\n",
    "    'SVM': SVC(probability=True),  # Probability needed for certain metrics and ROC curves\n",
    "    'KNN': KNeighborsClassifier(),\n",
    "    'Gradient Boosting': GradientBoostingClassifier()\n",
    "}\n",
    "\n",
    "for name, model in models.items():\n",
    "    model.fit(X_train, y_train)  # Fit the model\n",
    "    y_pred = model.predict(X_test)  # Predict on the test data\n",
    "    print(f\"{name} Classification Report:\\n{classification_report(y_test, y_pred)}\")\n",
    "    print(f\"{name} Confusion Matrix:\\n{confusion_matrix(y_test, y_pred)}\\n\")\n"
   ]
  },
  {
   "cell_type": "code",
   "execution_count": null,
   "id": "0467dfb8-f5d0-48f2-bbb1-932388de2616",
   "metadata": {},
   "outputs": [],
   "source": [
    "print(y_train.value_counts())\n",
    "print(X_train.value_counts())\n"
   ]
  },
  {
   "cell_type": "code",
   "execution_count": null,
   "id": "bc9390fc-886e-4a52-8f66-8078b5d3a323",
   "metadata": {},
   "outputs": [],
   "source": [
    "from sklearn.model_selection import train_test_split, GridSearchCV\n",
    "from sklearn.ensemble import RandomForestClassifier\n",
    "from sklearn.metrics import classification_report, confusion_matrix\n",
    "from imblearn.over_sampling import SMOTE\n",
    "from imblearn.pipeline import Pipeline\n",
    "import numpy as np\n"
   ]
  },
  {
   "cell_type": "code",
   "execution_count": null,
   "id": "0f293bb7-cbb7-423e-b58b-4a278eaa20ef",
   "metadata": {},
   "outputs": [],
   "source": [
    "X = dfs[['Elevation_Change']]  # Add more features if available\n",
    "y = dfs['rideable_type']  # Target variable\n",
    "X  = X.fillna(X.mean())\n",
    "# Split the data\n",
    "X_train, X_test, y_train, y_test = train_test_split(X, y, test_size=0.2, random_state=42)\n"
   ]
  },
  {
   "cell_type": "code",
   "execution_count": null,
   "id": "7242f177-e732-41af-aace-3c1f0cf282c6",
   "metadata": {},
   "outputs": [],
   "source": [
    "from imblearn.pipeline import Pipeline as ImbPipeline\n",
    "from sklearn.ensemble import RandomForestClassifier\n",
    "from sklearn.model_selection import GridSearchCV\n",
    "from imblearn.over_sampling import SMOTE"
   ]
  },
  {
   "cell_type": "code",
   "execution_count": null,
   "id": "b593a275-cb0f-4847-9369-da686e228e04",
   "metadata": {},
   "outputs": [],
   "source": [
    "Define the pipeline that includes SMOTE and a RandomForest classifier\n",
    "pipeline = ImbPipeline([\n",
    "    ('smote', SMOTE(random_state=42)),\n",
    "    ('classifier', RandomForestClassifier(random_state=42))\n",
    "])"
   ]
  },
  {
   "cell_type": "code",
   "execution_count": null,
   "id": "642fd977-38c4-443f-9624-3f3a2e2439e6",
   "metadata": {},
   "outputs": [],
   "source": [
    "# Define a grid of parameters to search (including RandomForest parameters)\n",
    "param_grid = {\n",
    "    'smote__k_neighbors': [5, 10],\n",
    "    'classifier__n_estimators': [100, 200],\n",
    "    'classifier__max_depth': [10, 20],\n",
    "    'classifier__min_samples_split': [2, 5]\n",
    "}\n",
    "\n",
    "# Setup the grid search\n"
   ]
  },
  {
   "cell_type": "code",
   "execution_count": null,
   "id": "3be63b5d-4a15-4b19-a271-532cc0c078fa",
   "metadata": {},
   "outputs": [],
   "source": [
    "grid_search = GridSearchCV(pipeline, param_grid, cv=3, scoring='accuracy', n_jobs=-1)\n",
    "grid_search.fit(X_train, y_train)"
   ]
  },
  {
   "cell_type": "code",
   "execution_count": null,
   "id": "ee7ba4f9-cabf-4437-84f6-002e45319721",
   "metadata": {},
   "outputs": [],
   "source": [
    "random_search = RandomizedSearchCV(pipeline, param_grid, n_iter=10, cv=3, scoring='accuracy', n_jobs=-1, random_state=42)"
   ]
  },
  {
   "cell_type": "code",
   "execution_count": null,
   "id": "fc1e94d4-a9fe-4397-9730-50a3c35ab841",
   "metadata": {},
   "outputs": [],
   "source": [
    "random_search.fit(X_train, y_train)"
   ]
  },
  {
   "cell_type": "code",
   "execution_count": null,
   "id": "8b20312b-dc40-4467-8f0b-dd0866f4c87d",
   "metadata": {},
   "outputs": [],
   "source": [
    "#Best model from the grid search\n",
    "best_model = grid_search.best_estimator_\n",
    "\n",
    "# Predict on test data\n",
    "y_pred = best_model.predict(X_test)\n",
    "\n",
    "# Evaluation\n",
    "print(\"Best model parameters:\", grid_search.best_params_)\n",
    "print(\"Classification Report:\\n\", classification_report(y_test, y_pred))\n",
    "print(\"Confusion Matrix:\\n\", confusion_matrix(y_test, y_pred))\n"
   ]
  }
 ],
 "metadata": {
  "kernelspec": {
   "display_name": "Python 3 (ipykernel)",
   "language": "python",
   "name": "python3"
  },
  "language_info": {
   "codemirror_mode": {
    "name": "ipython",
    "version": 3
   },
   "file_extension": ".py",
   "mimetype": "text/x-python",
   "name": "python",
   "nbconvert_exporter": "python",
   "pygments_lexer": "ipython3",
   "version": "3.8.0"
  }
 },
 "nbformat": 4,
 "nbformat_minor": 5
}
