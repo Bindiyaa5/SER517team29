{
  "cells": [
    {
      "cell_type": "code",
      "execution_count": 1,
      "metadata": {
        "colab": {
          "base_uri": "https://localhost:8080/"
        },
        "id": "iAV8-yzPJJ1o",
        "outputId": "11b14578-3be1-4961-e4f5-a5b5b7d3bb64"
      },
      "outputs": [
        {
          "name": "stdout",
          "output_type": "stream",
          "text": [
            "Defaulting to user installation because normal site-packages is not writeable\n",
            "Requirement already satisfied: pandas in /Users/jay/Library/Python/3.9/lib/python/site-packages (2.2.1)\n",
            "Requirement already satisfied: matplotlib in /Users/jay/Library/Python/3.9/lib/python/site-packages (3.8.3)\n",
            "Requirement already satisfied: scikit-learn in /Users/jay/Library/Python/3.9/lib/python/site-packages (1.4.1.post1)\n",
            "Requirement already satisfied: tzdata>=2022.7 in /Users/jay/Library/Python/3.9/lib/python/site-packages (from pandas) (2024.1)\n",
            "Requirement already satisfied: python-dateutil>=2.8.2 in /Users/jay/Library/Python/3.9/lib/python/site-packages (from pandas) (2.9.0.post0)\n",
            "Requirement already satisfied: pytz>=2020.1 in /Users/jay/Library/Python/3.9/lib/python/site-packages (from pandas) (2024.1)\n",
            "Requirement already satisfied: numpy<2,>=1.22.4 in /Users/jay/Library/Python/3.9/lib/python/site-packages (from pandas) (1.26.4)\n",
            "Requirement already satisfied: pyparsing>=2.3.1 in /Users/jay/Library/Python/3.9/lib/python/site-packages (from matplotlib) (3.1.2)\n",
            "Requirement already satisfied: fonttools>=4.22.0 in /Users/jay/Library/Python/3.9/lib/python/site-packages (from matplotlib) (4.50.0)\n",
            "Requirement already satisfied: contourpy>=1.0.1 in /Users/jay/Library/Python/3.9/lib/python/site-packages (from matplotlib) (1.2.0)\n",
            "Requirement already satisfied: importlib-resources>=3.2.0 in /Users/jay/Library/Python/3.9/lib/python/site-packages (from matplotlib) (6.3.0)\n",
            "Requirement already satisfied: kiwisolver>=1.3.1 in /Users/jay/Library/Python/3.9/lib/python/site-packages (from matplotlib) (1.4.5)\n",
            "Requirement already satisfied: pillow>=8 in /Users/jay/Library/Python/3.9/lib/python/site-packages (from matplotlib) (10.2.0)\n",
            "Requirement already satisfied: packaging>=20.0 in /Users/jay/Library/Python/3.9/lib/python/site-packages (from matplotlib) (24.0)\n",
            "Requirement already satisfied: cycler>=0.10 in /Users/jay/Library/Python/3.9/lib/python/site-packages (from matplotlib) (0.12.1)\n",
            "Requirement already satisfied: joblib>=1.2.0 in /Users/jay/Library/Python/3.9/lib/python/site-packages (from scikit-learn) (1.3.2)\n",
            "Requirement already satisfied: threadpoolctl>=2.0.0 in /Users/jay/Library/Python/3.9/lib/python/site-packages (from scikit-learn) (3.4.0)\n",
            "Requirement already satisfied: scipy>=1.6.0 in /Users/jay/Library/Python/3.9/lib/python/site-packages (from scikit-learn) (1.12.0)\n",
            "Requirement already satisfied: zipp>=3.1.0 in /Users/jay/Library/Python/3.9/lib/python/site-packages (from importlib-resources>=3.2.0->matplotlib) (3.18.1)\n",
            "Requirement already satisfied: six>=1.5 in /Library/Developer/CommandLineTools/Library/Frameworks/Python3.framework/Versions/3.9/lib/python3.9/site-packages (from python-dateutil>=2.8.2->pandas) (1.15.0)\n",
            "\u001b[33mWARNING: You are using pip version 21.2.4; however, version 24.0 is available.\n",
            "You should consider upgrading via the '/Library/Developer/CommandLineTools/usr/bin/python3 -m pip install --upgrade pip' command.\u001b[0m\n",
            "Note: you may need to restart the kernel to use updated packages.\n"
          ]
        }
      ],
      "source": [
        "pip install pandas matplotlib scikit-learn"
      ]
    },
    {
      "cell_type": "code",
      "execution_count": 2,
      "metadata": {},
      "outputs": [],
      "source": [
        "import pandas as pd"
      ]
    },
    {
      "cell_type": "code",
      "execution_count": null,
      "metadata": {
        "colab": {
          "base_uri": "https://localhost:8080/"
        },
        "id": "oKEH6EyMfZ5P",
        "outputId": "a5fc0000-ef3c-41c2-8551-c4127709f754"
      },
      "outputs": [
        {
          "ename": "",
          "evalue": "",
          "output_type": "error",
          "traceback": [
            "\u001b[1;31mThe Kernel crashed while executing code in the current cell or a previous cell. \n",
            "\u001b[1;31mPlease review the code in the cell(s) to identify a possible cause of the failure. \n",
            "\u001b[1;31mClick <a href='https://aka.ms/vscodeJupyterKernelCrash'>here</a> for more info. \n",
            "\u001b[1;31mView Jupyter <a href='command:jupyter.viewOutput'>log</a> for further details."
          ]
        }
      ],
      "source": [
        "df = pd.read_csv('combined-divvy-tripdata-with-weather.csv')\n",
        "df2 = pd.read_csv('weather.csv')\n",
        "\n",
        "df['datetime'] = pd.to_datetime(df['started_at'])\n",
        "df['date'] = df['datetime'].dt.date\n",
        "df2['date'] = pd.to_datetime(df2['started_at'])\n",
        "df2['date'] = df2['date'].dt.date\n",
        "df3 = df2[['date', 'weather']]\n",
        "df = pd.merge(df, df3, on='date', how='left')\n",
        "print(df)"
      ]
    },
    {
      "cell_type": "code",
      "execution_count": null,
      "metadata": {
        "id": "vjgkOWKVjPnM"
      },
      "outputs": [],
      "source": [
        "df.drop(columns=['datetime','date'], inplace=True)"
      ]
    },
    {
      "cell_type": "code",
      "execution_count": null,
      "metadata": {
        "id": "hWOmNU1UkGmu"
      },
      "outputs": [],
      "source": [
        "df['TAVG'] = (df['TMIN'] + df['TMAX']) / 2\n"
      ]
    },
    {
      "cell_type": "code",
      "execution_count": null,
      "metadata": {
        "id": "bgvstVZ8kYAp"
      },
      "outputs": [],
      "source": [
        "df.to_csv('/content/combined-divvy-tripdata-with-weather.csv', index=False)"
      ]
    },
    {
      "cell_type": "code",
      "execution_count": null,
      "metadata": {
        "colab": {
          "base_uri": "https://localhost:8080/",
          "height": 35
        },
        "id": "lcMUjY2zlQQ6",
        "outputId": "12b62065-a777-4a97-b488-36485b19b37d"
      },
      "outputs": [
        {
          "data": {
            "application/vnd.google.colaboratory.intrinsic+json": {
              "type": "string"
            },
            "text/plain": [
              "'/content/drive/MyDrive/517/combined-divvy-tripdata-with-weather.csv'"
            ]
          },
          "execution_count": 9,
          "metadata": {},
          "output_type": "execute_result"
        }
      ],
      "source": [
        "import shutil\n",
        "shutil.copy('/content/combined-divvy-tripdata-with-weather.csv', '/content/drive/MyDrive/517')"
      ]
    },
    {
      "cell_type": "code",
      "execution_count": null,
      "metadata": {
        "colab": {
          "base_uri": "https://localhost:8080/"
        },
        "id": "tjNBztKit38W",
        "outputId": "a2dc263b-6e7c-4198-92fe-4f4006961723"
      },
      "outputs": [
        {
          "name": "stdout",
          "output_type": "stream",
          "text": [
            "  member_casual day_of_week  season part_of_day  same_start_end  \\\n",
            "0        casual      Friday  Autumn   Afternoon           False   \n",
            "1        casual      Friday  Autumn   Afternoon           False   \n",
            "2        casual      Friday  Autumn   Afternoon           False   \n",
            "3        casual      Friday  Autumn   Afternoon            True   \n",
            "4        casual      Friday  Autumn   Afternoon            True   \n",
            "\n",
            "   rideable_type   TMIN_avg   TMAX_avg  num_trips  \n",
            "0   classic_bike  53.898828  73.405182      10151  \n",
            "1    docked_bike  52.481124  72.832634       2384  \n",
            "2  electric_bike  53.019428  72.574501      11530  \n",
            "3   classic_bike  53.709427  73.784257       1029  \n",
            "4    docked_bike  55.311953  75.483965        343  \n",
            "poisson regression's rmse value\n",
            "1417.3440193125393\n",
            "Train RMSE: 1446.9200886141791\n",
            "Test RMSE: 1285.9701726353092\n"
          ]
        }
      ],
      "source": [
        "import matplotlib\n",
        "matplotlib.use('Agg')\n",
        "\n",
        "import pandas as pd\n",
        "import matplotlib.pyplot as plt\n",
        "import numpy as np\n",
        "import seaborn as sns\n",
        "\n",
        "import statsmodels.api as sm\n",
        "import statsmodels.formula.api as smf\n",
        "import statsmodels\n",
        "from statsmodels.genmod.families import Poisson\n",
        "from statsmodels.tools.eval_measures import rmse\n",
        "\n",
        "from sklearn.model_selection import train_test_split\n",
        "from sklearn.model_selection import cross_val_score\n",
        "\n",
        "from sklearn import metrics\n",
        "from sklearn.metrics import r2_score\n",
        "from sklearn.linear_model import LinearRegression\n",
        "\n",
        "import pandas as pd\n",
        "\n",
        "# Load the dataset\n",
        "df = pd.read_csv('/content/drive/MyDrive/517/combined-divvy-tripdata-with-weather.csv')\n",
        "\n",
        "df['started_at'] = pd.to_datetime(df['started_at'])\n",
        "\n",
        "# Function to categorize season\n",
        "def get_season(month):\n",
        "    if month in [3, 4, 5]:\n",
        "        return 'Spring'\n",
        "    elif month in [6, 7, 8]:\n",
        "        return 'Summer'\n",
        "    elif month in [9, 10, 11]:\n",
        "        return 'Autumn'\n",
        "    else:\n",
        "        return 'Winter'\n",
        "\n",
        "# Function to categorize part of the day\n",
        "def get_part_of_day(hour):\n",
        "    if 5 <= hour < 12:\n",
        "        return 'Morning'\n",
        "    elif 12 <= hour < 17:\n",
        "        return 'Afternoon'\n",
        "    elif 17 <= hour < 21:\n",
        "        return 'Evening'\n",
        "    else:\n",
        "        return 'Night'\n",
        "\n",
        "df.dropna(inplace=True)\n",
        "# Apply functions to categorize 'started_at' into new columns\n",
        "df['day_of_week'] = df['started_at'].dt.day_name()\n",
        "df['season'] = df['started_at'].dt.month.apply(get_season)\n",
        "df['part_of_day'] = df['started_at'].dt.hour.apply(get_part_of_day)\n",
        "df['same_start_end'] = (df['start_station_name'] == df['end_station_name'])\n",
        "\n",
        "\n",
        "# Aggregate data if necessary, summing up the number of trips for each member type\n",
        "# If your data is already aggregated, you might not need this step\n",
        "df = df.groupby(['member_casual', 'day_of_week', 'season', 'part_of_day', 'same_start_end', 'rideable_type']).agg(\n",
        "    TMIN_avg=('TMIN', 'mean'),\n",
        "    TMAX_avg=('TMAX', 'mean'),\n",
        "    num_trips = ('TMIN', 'size')\n",
        ").reset_index()\n",
        "print(df.head(5))\n",
        "\n",
        "df = pd.concat((df, pd.get_dummies(df['member_casual'])), axis=1)\n",
        "df = pd.concat((df, pd.get_dummies(df['day_of_week'])), axis=1)\n",
        "df = pd.concat((df, pd.get_dummies(df['season'])), axis=1)\n",
        "df = pd.concat((df, pd.get_dummies(df['part_of_day'])), axis=1)\n",
        "df = pd.concat((df, pd.get_dummies(df['same_start_end'])), axis=1)\n",
        "# df = pd.concat((df, pd.get_dummies(df['TMIN_avg'])), axis=1)\n",
        "# df = pd.concat((df, pd.get_dummies(df['TMAX_avg'])), axis=1)\n",
        "df = pd.concat((df, pd.get_dummies(df['rideable_type'])), axis=1)\n",
        "x1 = pd.DataFrame()\n",
        "x1 = df\n",
        "x1.drop(columns=['member_casual','day_of_week', 'season', 'part_of_day', 'same_start_end', 'rideable_type', 'TMIN_avg', 'TMAX_avg'], inplace=True)\n",
        "y = df['num_trips']\n",
        "x = df[x1.columns]\n",
        "\n",
        "x = sm.add_constant(x)\n",
        "pm = sm.GLM(y, x, family=sm.families.Poisson()).fit()\n",
        "print(\"poisson regression's rmse value\")\n",
        "print(sm.tools.eval_measures.rmse(y, pm.fittedvalues, axis=0))\n",
        "\n",
        "######################################################################\n",
        "\n",
        "from sklearn.metrics import mean_squared_error\n",
        "\n",
        "# Define your train and test sets\n",
        "size = 0.2\n",
        "x_train, x_test, y_train, y_test = train_test_split(x, y, test_size=size, random_state=42)\n",
        "\n",
        "# Fit the Poisson regression model on the training data\n",
        "pm_train = sm.GLM(y_train, x_train, family=sm.families.Poisson()).fit()\n",
        "\n",
        "# Predict on training data and calculate RMSE\n",
        "train_preds = pm_train.predict(x_train)\n",
        "train_rmse = np.sqrt(mean_squared_error(y_train, train_preds))\n",
        "print(f\"Train RMSE: {train_rmse}\")\n",
        "\n",
        "# Predict on test data and calculate RMSE\n",
        "test_preds = pm_train.predict(x_test)  # Use the model trained on training data to predict test data\n",
        "test_rmse = np.sqrt(mean_squared_error(y_test, test_preds))\n",
        "print(f\"Test RMSE: {test_rmse}\")\n",
        "\n",
        "# Plotting actual vs predicted values for the test set\n",
        "plt.figure(figsize=(10, 6))  # Increase figure size for better visibility\n",
        "plt.plot(y_test.values[:100], 'b-', label='Actual', linewidth=2)  # Plot the first 100 actual values\n",
        "plt.plot(test_preds.values[:100], 'r--', label='Predicted', linewidth=2)  # Plot the first 100 predicted values\n",
        "plt.legend()\n",
        "plt.title(\"Actual vs Predicted\")\n",
        "plt.xlabel(\"Sample Index\")\n",
        "plt.ylabel(\"Number of Trips\")\n",
        "plt.show()\n",
        "\n",
        "# Save the plot\n",
        "plt.savefig(\"line_comparison.png\")\n",
        "plt.clf()\n"
      ]
    }
  ],
  "metadata": {
    "colab": {
      "provenance": []
    },
    "kernelspec": {
      "display_name": "Python 3",
      "name": "python3"
    },
    "language_info": {
      "codemirror_mode": {
        "name": "ipython",
        "version": 3
      },
      "file_extension": ".py",
      "mimetype": "text/x-python",
      "name": "python",
      "nbconvert_exporter": "python",
      "pygments_lexer": "ipython3",
      "version": "3.9.6"
    }
  },
  "nbformat": 4,
  "nbformat_minor": 0
}
